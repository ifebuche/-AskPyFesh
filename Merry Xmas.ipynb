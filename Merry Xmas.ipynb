{
 "cells": [
  {
   "cell_type": "code",
   "execution_count": 1,
   "metadata": {},
   "outputs": [
    {
     "name": "stdout",
     "output_type": "stream",
     "text": [
      "This is Fesh's surprise Xmas Trivia Script! \n",
      "Please choose your proferred sign: % or *\n",
      ">>> %\n",
      "                 %%\n",
      "                %%%%\n",
      "               %%%%%%\n",
      "              %%%%%%%%\n",
      "             %%%%%%%%%%\n",
      "            %%%%%%%%%%%%\n",
      "           %%%%%%%%%%%%%%\n",
      "          %%%%%%%%%%%%%%%%\n",
      "         %%%%%%%%%%%%%%%%%%\n",
      "        %%%%%%%%%%%%%%%%%%%%\n",
      "       %%%%%%%%%%%%%%%%%%%%%%\n",
      "      %%%%%%%%%%%%%%%%%%%%%%%%\n",
      "     %%%%%%%%%%%%%%%%%%%%%%%%%%\n",
      "    %%%%%%%%%%%%%%%%%%%%%%%%%%%%\n",
      "   %%%%%%%%%%%%%%%%%%%%%%%%%%%%%%\n",
      "  %%%%%%%%%%%%%%%%%%%%%%%%%%%%%%%%\n",
      "M e r r y   C h r i s t m a s  2  u\n"
     ]
    }
   ],
   "source": [
    "def tree(spacer=' ', star='*', lines=16, count = 16, count1 = 1):\n",
    "    for i in range(lines):\n",
    "        print(spacer * count, star * (count1)*2)\n",
    "        count -= 1\n",
    "        count1 += 1\n",
    "    print(\"M e r r y   C h r i s t m a s  2  u\")\n",
    "    \n",
    "print(\"This is Fesh's surprise Xmas Trivia Script! \\nPlease choose your proferred sign: % or *\")\n",
    "sign = input(\">>> \")\n",
    "\n",
    "if sign == '*':\n",
    "    tree(star=sign)\n",
    "elif sign == '%':\n",
    "    tree(star=sign)\n",
    "else:\n",
    "    print(\"That was neither * nor % but Fesh thinks you'll love '*'\")\n",
    "    tree()"
   ]
  },
  {
   "cell_type": "code",
   "execution_count": null,
   "metadata": {},
   "outputs": [],
   "source": []
  }
 ],
 "metadata": {
  "kernelspec": {
   "display_name": "Python 3",
   "language": "python",
   "name": "python3"
  },
  "language_info": {
   "codemirror_mode": {
    "name": "ipython",
    "version": 3
   },
   "file_extension": ".py",
   "mimetype": "text/x-python",
   "name": "python",
   "nbconvert_exporter": "python",
   "pygments_lexer": "ipython3",
   "version": "3.7.4"
  }
 },
 "nbformat": 4,
 "nbformat_minor": 2
}
