{
 "cells": [
  {
   "cell_type": "code",
   "execution_count": 2,
   "metadata": {},
   "outputs": [],
   "source": [
    "dict1 = {\"paschal\":123456, \"stanley\": 19235, \"olumide\":34567}"
   ]
  },
  {
   "cell_type": "code",
   "execution_count": 5,
   "metadata": {},
   "outputs": [
    {
     "name": "stdout",
     "output_type": "stream",
     "text": [
      "Hello and welcome.\n",
      "What is your username: Paschal\n",
      "Welcome paschal! We will need your password\n",
      "Please put your PIN: 365\n",
      "Invalid password is valid. Please try again.\n",
      "Please put your PIN: 5432635\n",
      "Invalid password is valid. Please try again.\n",
      "Please put your PIN: 32653\n",
      "Invalid password is valid. Please try again.\n",
      "Please put your PIN: 123456\n",
      "Welcome home paschal\n"
     ]
    }
   ],
   "source": [
    "print(\"Hello and welcome.\")\n",
    "username = input(\"What is your username: \")\n",
    "username = username.lower()\n",
    "if username in dict1.keys():\n",
    "    print(\"Welcome {}! We will need your password\".format(username))\n",
    "    #print(\"Welcome\" + \" \" + username + \" \" + \"We will need your password\")\n",
    "    password = input(\"Please put your PIN: \")\n",
    "    password = int(password)\n",
    "    while dict1[username] != password:\n",
    "        print(\"Invalid password is valid. Please try again.\")\n",
    "        password = input(\"Please put your PIN: \")\n",
    "        password = int(password)\n",
    "    else:\n",
    "        print(\"Welcome home {}\".format(username))\n",
    "else:\n",
    "    print(\"You are not on the list. Do you want to register?\")\n",
    "    answer = input(\"Y / N\")\n",
    "    if answer.lower() == \"y\":\n",
    "        password = input(\"Choose a PIN (Numbers only): \")\n",
    "        try:\n",
    "            password = int(password)\n",
    "        except:\n",
    "            print(\"That was not a number.\")\n",
    "        dict1[username] = password\n",
    "        print(\"{} you have been register. Your password is {}\".format(username, password))\n",
    "    elif answer.lower() == \"n\":\n",
    "        print(\"We take that as a No. Have a great day.\")\n",
    "    else:\n",
    "        print(\"That was neither a yes or no. Have a great day.\")\n"
   ]
  },
  {
   "cell_type": "code",
   "execution_count": null,
   "metadata": {},
   "outputs": [],
   "source": [
    "with open(\"dict.csv\", \"a\") as file:\n",
    "    file.write(username + ',' + password)"
   ]
  },
  {
   "cell_type": "code",
   "execution_count": null,
   "metadata": {},
   "outputs": [],
   "source": []
  }
 ],
 "metadata": {
  "kernelspec": {
   "display_name": "Python 3",
   "language": "python",
   "name": "python3"
  },
  "language_info": {
   "codemirror_mode": {
    "name": "ipython",
    "version": 3
   },
   "file_extension": ".py",
   "mimetype": "text/x-python",
   "name": "python",
   "nbconvert_exporter": "python",
   "pygments_lexer": "ipython3",
   "version": "3.7.4"
  }
 },
 "nbformat": 4,
 "nbformat_minor": 2
}
