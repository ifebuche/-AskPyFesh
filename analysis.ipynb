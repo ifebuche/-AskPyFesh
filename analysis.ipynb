{
 "cells": [
  {
   "cell_type": "code",
   "execution_count": 1,
   "metadata": {},
   "outputs": [],
   "source": [
    "import pandas as pd\n",
    "import re"
   ]
  },
  {
   "cell_type": "code",
   "execution_count": 2,
   "metadata": {},
   "outputs": [],
   "source": [
    "#######\n",
    "#pandas.read_fwf(filepath_or_buffer: Union[str, pathlib.Path, IO[~AnyStr]], colspecs='infer', widths=None, \n",
    "#infer_nrows=100, **kwds)\n",
    "#Read a table of fixed-width formatted lines into DataFrame.\n",
    "#Also supports optionally iterating or breaking of the file into chunks.\"\"\"\n",
    "########\n",
    "\n",
    "#df = pd.read_fwf(\"WhatsApp Chat with #AskPyFesh.txt\", encoding=\"utf-8\", header=None)\n",
    "#reads empty lines and returns them as Nan. Not pretty."
   ]
  },
  {
   "cell_type": "code",
   "execution_count": 3,
   "metadata": {},
   "outputs": [],
   "source": [
    "wats = pd.read_csv(\"WhatsApp Chat with #AskPyFesh.txt\", delimiter=\"\\t\", header=None)"
   ]
  },
  {
   "cell_type": "code",
   "execution_count": 4,
   "metadata": {},
   "outputs": [
    {
     "data": {
      "text/plain": [
       "(1143, 1)"
      ]
     },
     "execution_count": 4,
     "metadata": {},
     "output_type": "execute_result"
    }
   ],
   "source": [
    "wats.shape"
   ]
  },
  {
   "cell_type": "code",
   "execution_count": 5,
   "metadata": {},
   "outputs": [],
   "source": [
    "wats.columns = [\"message\"]"
   ]
  },
  {
   "cell_type": "code",
   "execution_count": 6,
   "metadata": {},
   "outputs": [
    {
     "data": {
      "text/html": [
       "<div>\n",
       "<style scoped>\n",
       "    .dataframe tbody tr th:only-of-type {\n",
       "        vertical-align: middle;\n",
       "    }\n",
       "\n",
       "    .dataframe tbody tr th {\n",
       "        vertical-align: top;\n",
       "    }\n",
       "\n",
       "    .dataframe thead th {\n",
       "        text-align: right;\n",
       "    }\n",
       "</style>\n",
       "<table border=\"1\" class=\"dataframe\">\n",
       "  <thead>\n",
       "    <tr style=\"text-align: right;\">\n",
       "      <th></th>\n",
       "      <th>message</th>\n",
       "    </tr>\n",
       "  </thead>\n",
       "  <tbody>\n",
       "    <tr>\n",
       "      <td>0</td>\n",
       "      <td>10/22/19, 1:26 PM - Messages to this group are...</td>\n",
       "    </tr>\n",
       "    <tr>\n",
       "      <td>1</td>\n",
       "      <td>10/22/19, 1:26 PM - You created group \"#AskPyF...</td>\n",
       "    </tr>\n",
       "    <tr>\n",
       "      <td>2</td>\n",
       "      <td>10/22/19, 1:28 PM - MaduDOMINIC: Ask Python Fesh</td>\n",
       "    </tr>\n",
       "    <tr>\n",
       "      <td>3</td>\n",
       "      <td>10/22/19, 1:28 PM - MaduDOMINIC: Odi ok</td>\n",
       "    </tr>\n",
       "    <tr>\n",
       "      <td>4</td>\n",
       "      <td>10/22/19, 1:28 PM - MaduDOMINIC: Anyi ebidogo</td>\n",
       "    </tr>\n",
       "  </tbody>\n",
       "</table>\n",
       "</div>"
      ],
      "text/plain": [
       "                                             message\n",
       "0  10/22/19, 1:26 PM - Messages to this group are...\n",
       "1  10/22/19, 1:26 PM - You created group \"#AskPyF...\n",
       "2   10/22/19, 1:28 PM - MaduDOMINIC: Ask Python Fesh\n",
       "3            10/22/19, 1:28 PM - MaduDOMINIC: Odi ok\n",
       "4      10/22/19, 1:28 PM - MaduDOMINIC: Anyi ebidogo"
      ]
     },
     "execution_count": 6,
     "metadata": {},
     "output_type": "execute_result"
    }
   ],
   "source": [
    "wats.head()"
   ]
  },
  {
   "cell_type": "code",
   "execution_count": 7,
   "metadata": {},
   "outputs": [
    {
     "data": {
      "text/html": [
       "<div>\n",
       "<style scoped>\n",
       "    .dataframe tbody tr th:only-of-type {\n",
       "        vertical-align: middle;\n",
       "    }\n",
       "\n",
       "    .dataframe tbody tr th {\n",
       "        vertical-align: top;\n",
       "    }\n",
       "\n",
       "    .dataframe thead th {\n",
       "        text-align: right;\n",
       "    }\n",
       "</style>\n",
       "<table border=\"1\" class=\"dataframe\">\n",
       "  <thead>\n",
       "    <tr style=\"text-align: right;\">\n",
       "      <th></th>\n",
       "      <th>message</th>\n",
       "    </tr>\n",
       "  </thead>\n",
       "  <tbody>\n",
       "    <tr>\n",
       "      <td>1138</td>\n",
       "      <td>11/7/19, 7:02 AM - Paschal Chukwuemeka Amah: G...</td>\n",
       "    </tr>\n",
       "    <tr>\n",
       "      <td>1139</td>\n",
       "      <td>Been quite here.</td>\n",
       "    </tr>\n",
       "    <tr>\n",
       "      <td>1140</td>\n",
       "      <td>11/7/19, 7:03 AM - Paschal Chukwuemeka Amah: S...</td>\n",
       "    </tr>\n",
       "    <tr>\n",
       "      <td>1141</td>\n",
       "      <td>11/7/19, 7:04 AM - Paschal Chukwuemeka Amah: &lt;...</td>\n",
       "    </tr>\n",
       "    <tr>\n",
       "      <td>1142</td>\n",
       "      <td>11/7/19, 7:06 AM - Paschal Chukwuemeka Amah: R...</td>\n",
       "    </tr>\n",
       "  </tbody>\n",
       "</table>\n",
       "</div>"
      ],
      "text/plain": [
       "                                                message\n",
       "1138  11/7/19, 7:02 AM - Paschal Chukwuemeka Amah: G...\n",
       "1139                                   Been quite here.\n",
       "1140  11/7/19, 7:03 AM - Paschal Chukwuemeka Amah: S...\n",
       "1141  11/7/19, 7:04 AM - Paschal Chukwuemeka Amah: <...\n",
       "1142  11/7/19, 7:06 AM - Paschal Chukwuemeka Amah: R..."
      ]
     },
     "execution_count": 7,
     "metadata": {},
     "output_type": "execute_result"
    }
   ],
   "source": [
    "wats.tail()"
   ]
  },
  {
   "cell_type": "code",
   "execution_count": 8,
   "metadata": {},
   "outputs": [],
   "source": [
    "#Convert to list for flexibility\n",
    "g1 = wats.message.to_list()"
   ]
  },
  {
   "cell_type": "markdown",
   "metadata": {},
   "source": [
    "# Initial Clean up"
   ]
  },
  {
   "cell_type": "code",
   "execution_count": 9,
   "metadata": {},
   "outputs": [
    {
     "data": {
      "text/plain": [
       "662"
      ]
     },
     "execution_count": 9,
     "metadata": {},
     "output_type": "execute_result"
    }
   ],
   "source": [
    "#Merge messages that belong together\n",
    "msgs = [] #message container\n",
    "pos = 0 #counter for position of msgs in the container\n",
    "\"\"\"\n",
    "Flow:\n",
    "For every line, see if it matches the expression which is starting with the format \"number(s)+slash\" eg \"12/\"\n",
    "If it does, it is a new line of conversion as they begin with dates, add it to msgs container\n",
    "Else, it is a continuation of the previous line, add it to the previous line and append to msgs, then pop previous line.\n",
    "\"\"\"\n",
    "for i, line in enumerate(g1):\n",
    "    if re.findall(\"\\A\\d+[/]\", line):\t\n",
    "        msgs.append(line)\n",
    "        pos += 1\n",
    "    else:\n",
    "        take = msgs[pos-1] + \". \" + line\n",
    "        msgs.append(take)\n",
    "        msgs.pop(pos-1)\n",
    "\n",
    "len(msgs)"
   ]
  },
  {
   "cell_type": "code",
   "execution_count": 10,
   "metadata": {},
   "outputs": [
    {
     "name": "stdout",
     "output_type": "stream",
     "text": [
      "0 10/22/19, 1:26 PM - Messages to this group are now secured with end-to-end encryption. Tap for more info.\n",
      "1 10/22/19, 1:26 PM - You created group \"#AskPyFesh \"\n",
      "2 10/22/19, 1:28 PM - MaduDOMINIC: Ask Python Fesh\n",
      "3 10/22/19, 1:28 PM - MaduDOMINIC: Odi ok\n",
      "4 10/22/19, 1:28 PM - MaduDOMINIC: Anyi ebidogo\n",
      "5 10/22/19, 1:30 PM - You changed the group description\n",
      "6 10/22/19, 1:30 PM - Paschal Chukwuemeka Amah: Hehe.\n",
      "7 Na so.\n",
      "8 10/22/19, 1:30 PM - Paschal Chukwuemeka Amah: Trying to find the next big pythonista.\n",
      "9 So, historically na Igwe enter the group first.\n"
     ]
    }
   ],
   "source": [
    "len(g1)\n",
    "for i, line in enumerate(g1[:10]):\n",
    "    print(i, line)"
   ]
  },
  {
   "cell_type": "code",
   "execution_count": 12,
   "metadata": {},
   "outputs": [
    {
     "name": "stdout",
     "output_type": "stream",
     "text": [
      "0 10/22/19, 1:26 PM - Messages to this group are now secured with end-to-end encryption. Tap for more info.\n",
      "1 10/22/19, 1:26 PM - You created group \"#AskPyFesh \"\n",
      "2 10/22/19, 1:28 PM - MaduDOMINIC: Ask Python Fesh\n",
      "3 10/22/19, 1:28 PM - MaduDOMINIC: Odi ok\n",
      "4 10/22/19, 1:28 PM - MaduDOMINIC: Anyi ebidogo\n",
      "5 10/22/19, 1:30 PM - You changed the group description\n",
      "6 10/22/19, 1:30 PM - Paschal Chukwuemeka Amah: Hehe.. Na so.\n",
      "7 10/22/19, 1:30 PM - Paschal Chukwuemeka Amah: Trying to find the next big pythonista.. So, historically na Igwe enter the group first.\n",
      "8 10/22/19, 1:31 PM - Paschal Chukwuemeka Amah: I'll delete all this sha just before I start sharing links and having people join.\n",
      "9 10/22/19, 1:34 PM - You changed this group's icon\n"
     ]
    }
   ],
   "source": [
    "len(msgs)\n",
    "for i, line in enumerate(msgs[:10]):\n",
    "    print(i, line)"
   ]
  },
  {
   "cell_type": "code",
   "execution_count": 13,
   "metadata": {},
   "outputs": [],
   "source": [
    "intro_lines = [line.lower() for line in msgs if \"Intro\" in line]"
   ]
  },
  {
   "cell_type": "code",
   "execution_count": 14,
   "metadata": {},
   "outputs": [
    {
     "data": {
      "text/plain": [
       "51"
      ]
     },
     "execution_count": 14,
     "metadata": {},
     "output_type": "execute_result"
    }
   ],
   "source": [
    "len(intro_lines)"
   ]
  },
  {
   "cell_type": "code",
   "execution_count": 15,
   "metadata": {},
   "outputs": [
    {
     "data": {
      "text/plain": [
       "['10/22/19, 8:33 pm - chigozie njoku d-gasm: #askfeshintro. name: chigozie njoku. city of residence: lagos',\n",
       " '10/22/19, 8:39 pm - +234 805 052 8131: #askfeshintro. taofik sanni. lagos',\n",
       " '10/22/19, 8:41 pm - +234 818 847 1990: hi everyone i am ikechukwu, based in lagos #askfeshintro',\n",
       " \"10/22/19, 8:43 pm - +234 703 120 1331: hello all i'm adedamola i reside in lagos #askfeshintro\",\n",
       " '10/22/19, 10:17 pm - paschal chukwuemeka amah: warm welcome to *#askpyfesh*! 😁. let us please tarry a while (24hrs) to allow folks to join in before we start off. this will give the majority of us the chance to start on the same page.. again, warm welcome.. - _this is fesh_ 🙇. #askfeshintro. location: lagos.',\n",
       " '10/22/19, 11:08 pm - +234 803 509 7061: #askfeshintro. gambo nurudeen bello. from ilorin',\n",
       " '10/22/19, 11:09 pm - +234 903 895 4127: #askfeshintro . emeka boris ama. from port harcourt',\n",
       " '10/22/19, 11:11 pm - +234 806 235 5136: #askfeshintro.   george peter,  lagos',\n",
       " '10/22/19, 11:38 pm - +234 706 214 9878: hi, this is chukwuma henry residing in owerri. #askfeshintro',\n",
       " '10/22/19, 11:41 pm - +234 705 340 6810: #askfeshintro . hi everyone. my name is ehi and i reside in port harcourt.',\n",
       " '10/23/19, 12:31 am - +234 903 881 9790: #askfreshintro. oladeji lawrence. from lagos',\n",
       " '10/23/19, 1:22 am - madudominic: #askfeshintro. dominic madu. location: lagos',\n",
       " '10/23/19, 7:27 am - +234 813 855 8745: #askfeshintro balogun oluwabunmi lagos ...',\n",
       " '10/23/19, 7:32 am - +234 803 406 5079: #askfreshintro. jude ejepu . minna, niger state',\n",
       " '10/23/19, 7:34 am - +234 906 883 7990: seghe. lagos. #askfreshintro',\n",
       " '10/23/19, 7:50 am - paschal chukwuemeka amah: _2/3 repeat message_. warm welcome to *#askpyfesh*! 😁. let us please tarry a while (~12hrs) to allow folks to join in before we start off. this will give the majority of us the chance to start on the same page.. *ps*: join link will be revoked by then. at least temporarily.. if you have not, and would want to be enumerated, drop your first message with the tag _*#askpyfeshintro*_ with your preferred name and location.. again, warm welcome.. - _this is fesh_ 🙇',\n",
       " '10/23/19, 8:30 am - +234 706 444 3217: #askpyfeshintro. chuks. lagos',\n",
       " '10/23/19, 8:35 am - +234 703 281 5348: #askfreshintro. adekunle opeyemi . lagos',\n",
       " '10/23/19, 8:41 am - adafin: #askfeshintro . opeyemi joe . lagos',\n",
       " '10/23/19, 9:00 am - +234 706 853 7939: #askfeshintro.. name: tammy. cor   : port-harcourt',\n",
       " '10/23/19, 9:15 am - +234 905 488 8162: #askfeshintro.. name: ayomide. cor   : lagos',\n",
       " '10/23/19, 9:24 am - +234 706 516 7280: #askfeshintro.. name: jide. cor   : lagos',\n",
       " '10/23/19, 10:07 am - +972 54-226-9638: #intro. nl. bonn',\n",
       " '10/23/19, 11:45 am - +234 805 209 7945: *#askfeshintro*. nkem. lagos',\n",
       " '10/23/19, 1:03 pm - +234 706 527 3604: my name is tolu oladipo. i reside in lagos state #askfreshintro',\n",
       " '10/23/19, 4:00 pm - ojei toritsemoshe d-gasm: #askfeshintro. ojei tooritse. lagos',\n",
       " '10/23/19, 7:05 pm - paschal chukwuemeka amah: _3/3 repeat message_. warm welcome to *#askpyfesh*! 😁. in an hour we shall revoke the join link and open the floor.. if you have not, and would want to be enumerated, drop your first message with the tag _*#askpyfeshintro*_ with your preferred name and location.. *upcoming event*. _*time*_: 22:15hrs gmt* (10:15pm lagos time). _*agenda*_: guidance on getting your computer ready to write the language.. _*recommended tools*_: your laptop or desktop and a working internet connection.. again, warm welcome.. - == _this is fesh_ 🙇. !=_fresh_ 😀',\n",
       " '10/23/19, 7:07 pm - obiora michael d-gasm: mike, surulere lagos #askpyfeshintro',\n",
       " '10/23/19, 7:08 pm - +91 99231 07798: sumit, pune india #askpyfeshintro',\n",
       " '10/23/19, 7:13 pm - +234 706 130 1525: #askfeshintro. mayokun. lagos',\n",
       " '10/23/19, 7:18 pm - +1 (587) 434-5627: #askfeshintro. thelma. calgary',\n",
       " '10/23/19, 7:20 pm - +234 703 059 4261: #askfeshintro. george . port harcourt',\n",
       " '10/23/19, 7:22 pm - budo: *#askpyfeshintro*. ogb. enugu',\n",
       " '10/23/19, 7:27 pm - +234 812 481 1464: #askfeshintro abimbola lagos',\n",
       " '10/23/19, 8:08 pm - +234 706 853 7939: #askpyfeshintro. tammy. portharcourt',\n",
       " '10/23/19, 8:15 pm - +234 805 326 3849: #askpyfeshintro. alfred. port harcourt',\n",
       " '10/23/19, 8:57 pm - charles echefu #askpyfesh: #askpyfeshintro. charles . lagos',\n",
       " '10/25/19, 9:07 am - paschal chukwuemeka amah: for the new one, if you will like to be enumerated, please send a message with the tag #askpyfeshintro with your name and location.. we shall have an ipython notebook of an analysis of this group with a plot of which locations we joined from. the notebook will be made available on github and i will share the link here.',\n",
       " \"10/25/19, 9:17 am - paschal chukwuemeka amah: finally, realizing there are a number absolute beginners in the mix, i have decided to push out twice a week begging from today, lessons from w3schools.com/python.. for today, ensure you have setup your pc then cover the topic on that page from _python intro_ to _python variables_.. it's _readable_ so you can read only. however, for a hands-on experience, pull up your pythin prompt from the command prompt and follow.\",\n",
       " \"10/25/19, 9:52 am - +234 705 579 9202: *#askpyfeshintro* . ejelonu benedict . current location : owerri. nice to meet y'all and mr. paschal 😊\",\n",
       " \"10/25/19, 10:21 am - +234 818 967 6168: *#askpyfeshintro*. amusa oladipupo emmanuel. current location: badagry. i'm pleased to meet y'all and stoked to meet mr. paschal.\",\n",
       " \"10/25/19, 9:23 pm - +234 703 080 5323: #askpyfeshintro . onyeka godswill chukwuemeka . lagos, nigeria. . i'm glad to be here... 🤭\",\n",
       " \"10/25/19, 9:41 pm - +1 (647) 679-8746: #askpyfeshintro . akeem  . toronto, canada. i'm glad to be here... 🤭\",\n",
       " \"10/25/19, 10:35 pm - +234 805 411 5331: *#askpyfeshintro*. maryam mohammed. current location: badagry. i'm pleased to meet y'all and stoked to meet mr. paschal.\",\n",
       " '10/25/19, 10:38 pm - +234 810 831 6393: *#askpyfeshintro*. name: muhammad abiodun sulaiman. location: agbara, lagos state.. so nice to be here',\n",
       " '10/28/19, 7:48 am - +234 706 809 3373: #askfeshintro. adedeji adegoke . dublin ireland.',\n",
       " \"10/28/19, 7:55 am - +234 806 267 3745: #askpyfeshintro. uche ikpeama. lagos, nigeria. i'm glad to be here🙂\",\n",
       " '10/28/19, 8:02 am - +91 75061 91366: #askpyfeshintro. virendra upadhyay. pune, india',\n",
       " '10/29/19, 8:02 pm - paschal chukwuemeka amah: *event announcement*. *date*: saturday, november 2nd.. *agenda*:discussion of _python intro_ to _python variables_ as on w3schools.com/python. *target*: beginners. _all of us are welcome still._. *time*: 0930pm lagos time. 2030hrs gmt.. *estimated duration*:45 minutes. . _-fesh_',\n",
       " '10/31/19, 6:51 pm - paschal chukwuemeka amah: fyi:. *event announcement*. *date*: saturday, november 2nd.. *agenda*:discussion of _python intro_ to _python variables_ as on w3schools.com/python. *target*: beginners. _all of us are welcome still._. *time*: 0930pm lagos time. 2030hrs gmt.. *estimated duration*:45 minutes. . _-fesh_',\n",
       " '11/2/19, 9:26 am - paschal chukwuemeka amah: “a practical introduction to python lambda functions” by george seif https://link.medium.com/o0lvbb2bh1. more on python lambda expressions.']"
      ]
     },
     "execution_count": 15,
     "metadata": {},
     "output_type": "execute_result"
    }
   ],
   "source": [
    "intro_lines"
   ]
  },
  {
   "cell_type": "code",
   "execution_count": 16,
   "metadata": {},
   "outputs": [],
   "source": [
    "df = pd.DataFrame()\n",
    "df[\"messages\"] = intro_lines"
   ]
  },
  {
   "cell_type": "code",
   "execution_count": 17,
   "metadata": {},
   "outputs": [],
   "source": [
    "df.to_csv(\"cleaned_intro.csv\")"
   ]
  },
  {
   "cell_type": "code",
   "execution_count": 18,
   "metadata": {},
   "outputs": [
    {
     "name": "stdout",
     "output_type": "stream",
     "text": [
      "662 662 662 662\n"
     ]
    }
   ],
   "source": [
    "date = []\n",
    "time = []\n",
    "number = []\n",
    "msg = []\n",
    "counter = 0\n",
    "for line in msgs:\n",
    "    x = line.split()\n",
    "    #Get the date\n",
    "    dating = x[0]\n",
    "    date.append(dating.replace(',',''))\n",
    "    \n",
    "    #Get the time\n",
    "    timing = x[1] + \" \" +x[2]\n",
    "    time.append(timing)\n",
    "    \n",
    "    #Get number\n",
    "    num = \"\".join(x[4:8])\n",
    "    number.append(num.replace(':', ''))\n",
    "    \n",
    "    #Get message\n",
    "    msging = \" \".join(x[8:])\n",
    "    msg.append(msging)\n",
    "    \n",
    "#     counter += 1\n",
    "#     print(counter)\n",
    "\n",
    "print(len(date), len(time), len(number), len(msg))"
   ]
  },
  {
   "cell_type": "markdown",
   "metadata": {},
   "source": [
    "# IIM Template"
   ]
  },
  {
   "cell_type": "code",
   "execution_count": 1,
   "metadata": {},
   "outputs": [],
   "source": [
    "import pandas as pd\n",
    "import re\n",
    "import matplotlib.pyplot as plt"
   ]
  },
  {
   "cell_type": "code",
   "execution_count": 2,
   "metadata": {},
   "outputs": [
    {
     "name": "stdout",
     "output_type": "stream",
     "text": [
      "1389\n"
     ]
    }
   ],
   "source": [
    "#Read txt data file \n",
    "with open(\"WhatsApp Chat with #AskPyFesh.txt\", \"r\", encoding = \"utf-8\") as file:\n",
    "    chats = file.readlines()\n",
    "print(len(chats))"
   ]
  },
  {
   "cell_type": "code",
   "execution_count": 3,
   "metadata": {},
   "outputs": [
    {
     "name": "stdout",
     "output_type": "stream",
     "text": [
      "1389\n",
      "1052\n"
     ]
    }
   ],
   "source": [
    "#Remove new lines\n",
    "chats = [line.strip() for line in chats]\n",
    "chats[:10]\n",
    "print(len(chats))\n",
    "\n",
    "#Clean out the join notification lines\n",
    "apfesh = [line for line in chats if not \"joined using this\" in line]\n",
    "\n",
    "#Further cleaning\n",
    "#Remove empty lines\n",
    "apfesh = [line for line in apfesh if len(line) > 1]\n",
    "print(len(apfesh))"
   ]
  },
  {
   "cell_type": "code",
   "execution_count": 4,
   "metadata": {},
   "outputs": [
    {
     "name": "stdout",
     "output_type": "stream",
     "text": [
      "1048\n"
     ]
    }
   ],
   "source": [
    "#Remove more auto lines\n",
    "apfesh = [line for line in apfesh if not \"You changed\" in line]\n",
    "print(len(apfesh))"
   ]
  },
  {
   "cell_type": "code",
   "execution_count": 5,
   "metadata": {},
   "outputs": [
    {
     "name": "stdout",
     "output_type": "stream",
     "text": [
      "1045\n"
     ]
    }
   ],
   "source": [
    "#Remove even more auto lines\n",
    "apfesh = [line for line in apfesh if not \"You revoked\" in line]\n",
    "print(len(apfesh))"
   ]
  },
  {
   "cell_type": "code",
   "execution_count": 6,
   "metadata": {},
   "outputs": [
    {
     "data": {
      "text/plain": [
       "['10/23/19, 8:42 AM - +263 77 221 3302 left',\n",
       " '11/2/19, 3:52 PM - +234 703 553 4253 left',\n",
       " '11/4/19, 9:48 AM - +44 7436 909012 left']"
      ]
     },
     "execution_count": 6,
     "metadata": {},
     "output_type": "execute_result"
    }
   ],
   "source": [
    "#Drop 'left-ers'\n",
    "left = [line for line in apfesh if line.endswith(\"left\")]\n",
    "left"
   ]
  },
  {
   "cell_type": "code",
   "execution_count": 7,
   "metadata": {},
   "outputs": [
    {
     "name": "stdout",
     "output_type": "stream",
     "text": [
      "1042\n"
     ]
    }
   ],
   "source": [
    "#Remove all that 'left'\n",
    "apfesh = [line for line in apfesh if not line.endswith(\"left\")]\n",
    "print(len(apfesh))"
   ]
  },
  {
   "cell_type": "code",
   "execution_count": 8,
   "metadata": {},
   "outputs": [
    {
     "data": {
      "text/plain": [
       "566"
      ]
     },
     "execution_count": 8,
     "metadata": {},
     "output_type": "execute_result"
    }
   ],
   "source": [
    "#Merge messages that belong together\n",
    "msgs = [] #message container\n",
    "pos = 0 #counter for position of msgs in the container\n",
    "\"\"\"\n",
    "Flow:\n",
    "For every line, see if it matches the expression which is starting with the format \"number(s)+slash\" eg \"12/\"\n",
    "If it does, it is a new line of conversion as they begin with dates, add it to msgs container\n",
    "Else, it is a continuation of the previous line, add it to the previous line and append to msgs, then pop previous line.\n",
    "\"\"\"\n",
    "for line in apfesh:\n",
    "    if re.findall(\"\\A\\d+[/]\", line):\n",
    "        msgs.append(line)\n",
    "        pos += 1\n",
    "    else:\n",
    "        take = msgs[pos-1] + \". \" + line\n",
    "        msgs.append(take)\n",
    "        msgs.pop(pos-1)\n",
    "\n",
    "len(msgs)"
   ]
  },
  {
   "cell_type": "code",
   "execution_count": 9,
   "metadata": {},
   "outputs": [
    {
     "data": {
      "text/plain": [
       "['10/22/19, 1:26 PM - Messages to this group are now secured with end-to-end encryption. Tap for more info.',\n",
       " '10/22/19, 1:26 PM - You created group \"#AskPyFesh \"',\n",
       " '10/22/19, 1:28 PM - MaduDOMINIC: Ask Python Fesh',\n",
       " '10/22/19, 1:28 PM - MaduDOMINIC: Odi ok',\n",
       " '10/22/19, 1:28 PM - MaduDOMINIC: Anyi ebidogo']"
      ]
     },
     "execution_count": 9,
     "metadata": {},
     "output_type": "execute_result"
    }
   ],
   "source": [
    "msgs[:5]"
   ]
  },
  {
   "cell_type": "code",
   "execution_count": 10,
   "metadata": {},
   "outputs": [
    {
     "data": {
      "text/plain": [
       "564"
      ]
     },
     "execution_count": 10,
     "metadata": {},
     "output_type": "execute_result"
    }
   ],
   "source": [
    "#Drop first two lines: auto msg\n",
    "msgs = msgs[2:]\n",
    "len(msgs)"
   ]
  },
  {
   "cell_type": "code",
   "execution_count": 11,
   "metadata": {},
   "outputs": [
    {
     "data": {
      "text/plain": [
       "['10/23/19, 1:03 PM - +234 706 527 3604: My name is Tolu Oladipo. I reside in Lagos state #AskFreshIntro',\n",
       " '10/23/19, 4:00 PM - Ojei Toritsemoshe D-GASM: #AskFeshIntro. Ojei Tooritse. Lagos',\n",
       " '10/23/19, 7:05 PM - Paschal Chukwuemeka Amah: _3/3 Repeat message_. Warm welcome to *#AskPyFesh*! 😁. In an hour we shall revoke the join link and open the floor.. If you have not, and would want to be enumerated, drop your first message with the tag _*#AskPyFeshIntro*_ with your preferred name and location.. *Upcoming Event*. _*Time*_: 22:15hrs GMT* (10:15pm Lagos Time). _*Agenda*_: Guidance on getting your computer ready to write the language.. _*Recommended Tools*_: Your laptop or desktop and a working Internet connection.. Again, warm welcome.. - == _This is Fesh_ 🙇. !=_Fresh_ 😀',\n",
       " '10/23/19, 7:07 PM - Obiora Michael D-GASM: Mike, Surulere Lagos #AskPyFeshIntro',\n",
       " '10/23/19, 7:08 PM - +234 805 052 8131: What if my laptop can not connect to WiFi, what do I do?']"
      ]
     },
     "execution_count": 11,
     "metadata": {},
     "output_type": "execute_result"
    }
   ],
   "source": [
    "#peep message format so far\n",
    "msgs[50:55]"
   ]
  },
  {
   "cell_type": "code",
   "execution_count": 12,
   "metadata": {},
   "outputs": [],
   "source": [
    "# #########################\n",
    "# #Cleaning drawing board\n",
    "# #########################\n",
    "# for i, line in enumerate(msgs):\n",
    "#     print(line)\n",
    "#     x = line.split()\n",
    "#     num = \" \".join(x[3:9])\n",
    "#     print(num)\n",
    "#     match = re.search(r\"- ([^']*):\", num).group(1)\n",
    "#     part = line.partition(match)[2] #partition according to the match and extract the last part\n",
    "#     print(i, match, \"\\n\")"
   ]
  },
  {
   "cell_type": "code",
   "execution_count": 13,
   "metadata": {},
   "outputs": [
    {
     "data": {
      "text/plain": [
       "['10/23/19, 8:14 AM - +234 701 291 2307: #AskFreshintro. Joseph Ojo. Oyo',\n",
       " '10/23/19, 8:15 AM - +234 708 884 5567: #AskFreshintro. Bamgbose Elizabeth. Lagos',\n",
       " '10/23/19, 8:22 AM - +234 903 182 7815: #AskFreshintro. Samson Adejoro. Lagos',\n",
       " '10/23/19, 8:28 AM - +34 689 00 06 09: #AskFreshintro Ade Madrid',\n",
       " '10/23/19, 8:30 AM - +234 706 444 3217: #AskPyFeshIntro. Chuks. Lagos',\n",
       " '10/23/19, 8:35 AM - Francis Obasi D-GASM: #AskFreshintro. Francis Obasi. Lagos']"
      ]
     },
     "execution_count": 13,
     "metadata": {},
     "output_type": "execute_result"
    }
   ],
   "source": [
    "msgs[34:40]"
   ]
  },
  {
   "cell_type": "code",
   "execution_count": 14,
   "metadata": {},
   "outputs": [
    {
     "name": "stdout",
     "output_type": "stream",
     "text": [
      "564 564 564 564\n"
     ]
    }
   ],
   "source": [
    "#make arrays of different parts of the messages\n",
    "date = []\n",
    "time = []\n",
    "number = []\n",
    "msg = []\n",
    "counter = 0\n",
    "for line in msgs:\n",
    "    x = line.split()\n",
    "    #Get the date\n",
    "    dating = x[0]\n",
    "    date.append(dating.replace(',',''))\n",
    "    \n",
    "    #Get the time\n",
    "    timing = x[1] + \" \" +x[2]\n",
    "    time.append(timing)\n",
    "    \n",
    "    #Get number\n",
    "    num = \" \".join(x[3:9]) #the parts numbers/names fall in\n",
    "    match = re.search(r\"- ([^']*):\", num).group(1) #match between '- ' and ':' where they are per se\n",
    "    number.append(match)\n",
    "    \n",
    "    #Get message\n",
    "    #num = \" \".join(x[3:8]) #num/name position\n",
    "    #match = re.search(r\"- ([^']*):\", num).group(1) #isolate the num/name per se\n",
    "    part = line.partition(match)[2] #partition according to the match and extract the last part, the msg\n",
    "    msging = part[2:] #strip off the first two characters as they are \": \"\n",
    "    msg.append(msging)\n",
    "    \n",
    "#     counter += 1\n",
    "#     print(counter)\n",
    "\n",
    "print(len(date), len(time), len(number), len(msg))"
   ]
  },
  {
   "cell_type": "code",
   "execution_count": 15,
   "metadata": {},
   "outputs": [
    {
     "data": {
      "text/plain": [
       "['MaduDOMINIC', 'MaduDOMINIC', 'MaduDOMINIC', 'Fesh', 'Fesh']"
      ]
     },
     "execution_count": 15,
     "metadata": {},
     "output_type": "execute_result"
    }
   ],
   "source": [
    "number = [line.replace('Paschal Chukwuemeka Amah', 'Fesh') for line in number]\n",
    "number[:5]"
   ]
  },
  {
   "cell_type": "code",
   "execution_count": 16,
   "metadata": {},
   "outputs": [
    {
     "data": {
      "text/html": [
       "<div>\n",
       "<style scoped>\n",
       "    .dataframe tbody tr th:only-of-type {\n",
       "        vertical-align: middle;\n",
       "    }\n",
       "\n",
       "    .dataframe tbody tr th {\n",
       "        vertical-align: top;\n",
       "    }\n",
       "\n",
       "    .dataframe thead th {\n",
       "        text-align: right;\n",
       "    }\n",
       "</style>\n",
       "<table border=\"1\" class=\"dataframe\">\n",
       "  <thead>\n",
       "    <tr style=\"text-align: right;\">\n",
       "      <th></th>\n",
       "      <th>date</th>\n",
       "      <th>time</th>\n",
       "      <th>number</th>\n",
       "      <th>msg</th>\n",
       "    </tr>\n",
       "  </thead>\n",
       "  <tbody>\n",
       "    <tr>\n",
       "      <td>0</td>\n",
       "      <td>10/22/19</td>\n",
       "      <td>1:28 PM</td>\n",
       "      <td>MaduDOMINIC</td>\n",
       "      <td>Ask Python Fesh</td>\n",
       "    </tr>\n",
       "    <tr>\n",
       "      <td>1</td>\n",
       "      <td>10/22/19</td>\n",
       "      <td>1:28 PM</td>\n",
       "      <td>MaduDOMINIC</td>\n",
       "      <td>Odi ok</td>\n",
       "    </tr>\n",
       "    <tr>\n",
       "      <td>2</td>\n",
       "      <td>10/22/19</td>\n",
       "      <td>1:28 PM</td>\n",
       "      <td>MaduDOMINIC</td>\n",
       "      <td>Anyi ebidogo</td>\n",
       "    </tr>\n",
       "    <tr>\n",
       "      <td>3</td>\n",
       "      <td>10/22/19</td>\n",
       "      <td>1:30 PM</td>\n",
       "      <td>Fesh</td>\n",
       "      <td>Hehe.. Na so.</td>\n",
       "    </tr>\n",
       "    <tr>\n",
       "      <td>4</td>\n",
       "      <td>10/22/19</td>\n",
       "      <td>1:30 PM</td>\n",
       "      <td>Fesh</td>\n",
       "      <td>Trying to find the next big pythonista.. So, h...</td>\n",
       "    </tr>\n",
       "  </tbody>\n",
       "</table>\n",
       "</div>"
      ],
      "text/plain": [
       "       date     time       number  \\\n",
       "0  10/22/19  1:28 PM  MaduDOMINIC   \n",
       "1  10/22/19  1:28 PM  MaduDOMINIC   \n",
       "2  10/22/19  1:28 PM  MaduDOMINIC   \n",
       "3  10/22/19  1:30 PM         Fesh   \n",
       "4  10/22/19  1:30 PM         Fesh   \n",
       "\n",
       "                                                 msg  \n",
       "0                                    Ask Python Fesh  \n",
       "1                                             Odi ok  \n",
       "2                                       Anyi ebidogo  \n",
       "3                                      Hehe.. Na so.  \n",
       "4  Trying to find the next big pythonista.. So, h...  "
      ]
     },
     "execution_count": 16,
     "metadata": {},
     "output_type": "execute_result"
    }
   ],
   "source": [
    "#Put in a dataframe\n",
    "apfesh_df = pd.DataFrame()\n",
    "apfesh_df[\"date\"] = date\n",
    "apfesh_df[\"time\"] = time\n",
    "apfesh_df[\"number\"] = number\n",
    "apfesh_df[\"msg\"] = msg\n",
    "\n",
    "apfesh_df.head()"
   ]
  },
  {
   "cell_type": "code",
   "execution_count": 17,
   "metadata": {},
   "outputs": [
    {
     "name": "stdout",
     "output_type": "stream",
     "text": [
      "Fesh                 214\n",
      "+234 803 604 4312     53\n",
      "+234 812 053 1560     29\n",
      "+234 903 182 7815     22\n",
      "+234 703 080 5323     16\n",
      "Name: number, dtype: int64\n"
     ]
    },
    {
     "data": {
      "text/plain": [
       "<matplotlib.axes._subplots.AxesSubplot at 0x1f644d1a0c8>"
      ]
     },
     "execution_count": 17,
     "metadata": {},
     "output_type": "execute_result"
    },
    {
     "data": {
      "image/png": "[encoded data removed]",
      "text/plain": [
       "<Figure size 432x288 with 1 Axes>"
      ]
     },
     "metadata": {
      "needs_background": "light"
     },
     "output_type": "display_data"
    }
   ],
   "source": [
    "top5messengers = apfesh_df.number.value_counts(ascending=False).head()\n",
    "print(top5messengers)\n",
    "top5messengers.plot(kind=\"bar\")"
   ]
  },
  {
   "cell_type": "code",
   "execution_count": 18,
   "metadata": {},
   "outputs": [
    {
     "name": "stdout",
     "output_type": "stream",
     "text": [
      "Fesh                 214\n",
      "+234 803 604 4312     53\n",
      "+234 812 053 1560     29\n",
      "+234 903 182 7815     22\n",
      "+234 703 080 5323     16\n",
      "Name: number, dtype: int64\n"
     ]
    },
    {
     "data": {
      "image/png": "[encoded data removed]",
      "text/plain": [
       "<Figure size 432x288 with 1 Axes>"
      ]
     },
     "metadata": {
      "needs_background": "light"
     },
     "output_type": "display_data"
    }
   ],
   "source": [
    "print(top5messengers)\n",
    "fig, ax2 = plt.subplots()\n",
    "top5messengers.plot(kind='bar',ax=ax2, fontsize=10, sort_columns=True)\n",
    "ax2.grid(axis='y')\n",
    "plt.show()"
   ]
  },
  {
   "cell_type": "code",
   "execution_count": null,
   "metadata": {},
   "outputs": [],
   "source": []
  }
 ],
 "metadata": {
  "kernelspec": {
   "display_name": "Python 3",
   "language": "python",
   "name": "python3"
  },
  "language_info": {
   "codemirror_mode": {
    "name": "ipython",
    "version": 3
   },
   "file_extension": ".py",
   "mimetype": "text/x-python",
   "name": "python",
   "nbconvert_exporter": "python",
   "pygments_lexer": "ipython3",
   "version": "3.7.4"
  }
 },
 "nbformat": 4,
 "nbformat_minor": 2
}
