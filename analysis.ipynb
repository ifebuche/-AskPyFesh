{
 "cells": [
  {
   "cell_type": "code",
   "execution_count": 1,
   "metadata": {},
   "outputs": [],
   "source": [
    "import pandas as pd"
   ]
  },
  {
   "cell_type": "code",
   "execution_count": 2,
   "metadata": {},
   "outputs": [],
   "source": [
    "#######\n",
    "#pandas.read_fwf(filepath_or_buffer: Union[str, pathlib.Path, IO[~AnyStr]], colspecs='infer', widths=None, \n",
    "#infer_nrows=100, **kwds)\n",
    "#Read a table of fixed-width formatted lines into DataFrame.\n",
    "#Also supports optionally iterating or breaking of the file into chunks.\"\"\"\n",
    "########\n",
    "\n",
    "#df = pd.read_fwf(\"WhatsApp Chat with #AskPyFesh.txt\", encoding=\"utf-8\", header=None)\n",
    "#reads empty lines and returns them as Nan. Not pretty."
   ]
  },
  {
   "cell_type": "code",
   "execution_count": 3,
   "metadata": {},
   "outputs": [],
   "source": [
    "wats = pd.read_csv(\"WhatsApp Chat with #AskPyFesh.txt\", delimiter=\"\\t\", header=None)"
   ]
  },
  {
   "cell_type": "code",
   "execution_count": 4,
   "metadata": {},
   "outputs": [
    {
     "data": {
      "text/plain": [
       "(405, 1)"
      ]
     },
     "execution_count": 4,
     "metadata": {},
     "output_type": "execute_result"
    }
   ],
   "source": [
    "wats.shape"
   ]
  },
  {
   "cell_type": "code",
   "execution_count": 5,
   "metadata": {},
   "outputs": [],
   "source": [
    "wats.columns = [\"message\"]"
   ]
  },
  {
   "cell_type": "code",
   "execution_count": 6,
   "metadata": {},
   "outputs": [
    {
     "data": {
      "text/html": [
       "<div>\n",
       "<style scoped>\n",
       "    .dataframe tbody tr th:only-of-type {\n",
       "        vertical-align: middle;\n",
       "    }\n",
       "\n",
       "    .dataframe tbody tr th {\n",
       "        vertical-align: top;\n",
       "    }\n",
       "\n",
       "    .dataframe thead th {\n",
       "        text-align: right;\n",
       "    }\n",
       "</style>\n",
       "<table border=\"1\" class=\"dataframe\">\n",
       "  <thead>\n",
       "    <tr style=\"text-align: right;\">\n",
       "      <th></th>\n",
       "      <th>message</th>\n",
       "    </tr>\n",
       "  </thead>\n",
       "  <tbody>\n",
       "    <tr>\n",
       "      <td>0</td>\n",
       "      <td>10/22/19, 1:26 PM - Messages to this group are...</td>\n",
       "    </tr>\n",
       "    <tr>\n",
       "      <td>1</td>\n",
       "      <td>10/22/19, 1:26 PM - You created group \"#AskPyF...</td>\n",
       "    </tr>\n",
       "    <tr>\n",
       "      <td>2</td>\n",
       "      <td>10/22/19, 1:28 PM - MaduDOMINIC: Ask Python Fesh</td>\n",
       "    </tr>\n",
       "    <tr>\n",
       "      <td>3</td>\n",
       "      <td>10/22/19, 1:28 PM - MaduDOMINIC: Odi ok</td>\n",
       "    </tr>\n",
       "    <tr>\n",
       "      <td>4</td>\n",
       "      <td>10/22/19, 1:28 PM - MaduDOMINIC: Anyi ebidogo</td>\n",
       "    </tr>\n",
       "  </tbody>\n",
       "</table>\n",
       "</div>"
      ],
      "text/plain": [
       "                                             message\n",
       "0  10/22/19, 1:26 PM - Messages to this group are...\n",
       "1  10/22/19, 1:26 PM - You created group \"#AskPyF...\n",
       "2   10/22/19, 1:28 PM - MaduDOMINIC: Ask Python Fesh\n",
       "3            10/22/19, 1:28 PM - MaduDOMINIC: Odi ok\n",
       "4      10/22/19, 1:28 PM - MaduDOMINIC: Anyi ebidogo"
      ]
     },
     "execution_count": 6,
     "metadata": {},
     "output_type": "execute_result"
    }
   ],
   "source": [
    "wats.head()"
   ]
  },
  {
   "cell_type": "code",
   "execution_count": 7,
   "metadata": {},
   "outputs": [
    {
     "data": {
      "text/html": [
       "<div>\n",
       "<style scoped>\n",
       "    .dataframe tbody tr th:only-of-type {\n",
       "        vertical-align: middle;\n",
       "    }\n",
       "\n",
       "    .dataframe tbody tr th {\n",
       "        vertical-align: top;\n",
       "    }\n",
       "\n",
       "    .dataframe thead th {\n",
       "        text-align: right;\n",
       "    }\n",
       "</style>\n",
       "<table border=\"1\" class=\"dataframe\">\n",
       "  <thead>\n",
       "    <tr style=\"text-align: right;\">\n",
       "      <th></th>\n",
       "      <th>message</th>\n",
       "    </tr>\n",
       "  </thead>\n",
       "  <tbody>\n",
       "    <tr>\n",
       "      <td>400</td>\n",
       "      <td>_-Fesh-_</td>\n",
       "    </tr>\n",
       "    <tr>\n",
       "      <td>401</td>\n",
       "      <td>10/24/19, 8:40 AM - +234 812 481 1464: Kudos @...</td>\n",
       "    </tr>\n",
       "    <tr>\n",
       "      <td>402</td>\n",
       "      <td>10/24/19, 8:44 AM - Budo: I'm getting confused...</td>\n",
       "    </tr>\n",
       "    <tr>\n",
       "      <td>403</td>\n",
       "      <td>10/24/19, 8:46 AM - Paschal Chukwuemeka Amah: ...</td>\n",
       "    </tr>\n",
       "    <tr>\n",
       "      <td>404</td>\n",
       "      <td>10/24/19, 9:06 AM - +1 (647) 679-8746 joined u...</td>\n",
       "    </tr>\n",
       "  </tbody>\n",
       "</table>\n",
       "</div>"
      ],
      "text/plain": [
       "                                               message\n",
       "400                                           _-Fesh-_\n",
       "401  10/24/19, 8:40 AM - +234 812 481 1464: Kudos @...\n",
       "402  10/24/19, 8:44 AM - Budo: I'm getting confused...\n",
       "403  10/24/19, 8:46 AM - Paschal Chukwuemeka Amah: ...\n",
       "404  10/24/19, 9:06 AM - +1 (647) 679-8746 joined u..."
      ]
     },
     "execution_count": 7,
     "metadata": {},
     "output_type": "execute_result"
    }
   ],
   "source": [
    "wats.tail()"
   ]
  },
  {
   "cell_type": "code",
   "execution_count": 8,
   "metadata": {},
   "outputs": [],
   "source": [
    "#Convert to list for flexibility\n",
    "g1 = wats.message.to_list()"
   ]
  },
  {
   "cell_type": "markdown",
   "metadata": {},
   "source": [
    "# Initial Clean up"
   ]
  },
  {
   "cell_type": "code",
   "execution_count": 9,
   "metadata": {},
   "outputs": [],
   "source": [
    "########\n",
    "#Whatsapp messages export breaks a person's chats into new lines with every return carriage input\n",
    "#This makes imported messages show these lines on new lines/rows in the mix insteading of holding all convo as one\n",
    "#irrespective of the return carriage points\n",
    "#So the task here is gathering all posts by each person into a single row\n",
    "\n",
    "#Refacroring needed here\n",
    "###########\n",
    "\n",
    "msgs = [] #list to hold our cleaned lines\n",
    "pos = 0 #a counter to track where we are at msgs so we can delete/pop lines \n",
    "\n",
    "#Flow: If a line starts with a date, it is a single chat ot start of a single chat, pick it and go to next line\n",
    "#If the following line doesn't start with a date, check if the line before starts with a date, if it does, this line\n",
    "#is only line 2, merge this line and the previous then the previous line as the current line writes the previous + current\n",
    "#Elif the previous line doesn't start with a date, check the one before it till the 13th before it. For each stage,\n",
    "#take the line with date starting as the begining of the chat and concat the following lines till the current with spaces\n",
    "#to make a whole chat into a single row\n",
    "\n",
    "for i, line in enumerate(g1):\n",
    "    line = line.lower()\n",
    "    try:\n",
    "        num = int(line[:2]) #Start of line, see if a date which will start with a number\n",
    "        if num:\n",
    "            msgs.append(line)\n",
    "            pos += 1\n",
    "    except:\n",
    "        \"\"\"\n",
    "        So it's not a number/date meaning its line 2 the prev line.\n",
    "        Check if the line before it starts with a number/date\n",
    "        \"\"\"\n",
    "        try: #checking\n",
    "            num = int(g1[i-1][:2]) #line being tried\n",
    "            if num: #if number then (stop)\n",
    "                msg_now = g1[i-1]+ \" \" + line #current and prev lines are same convo. merge them\n",
    "                msgs.append(msg_now) #put in the list\n",
    "                msgs.pop(pos-1) #remove the previous line item\n",
    "                #pos -= 1\n",
    "                #end of show\n",
    "        except: #Gets here if it's not a number, so it's a continuation still\n",
    "            \"\"\"\n",
    "            Since it's not a number/date, means it's line 3 of the prev2 lines.\n",
    "            \"\"\"\n",
    "            try: #check if two lines before it starts with a number\n",
    "                num = int(g1[i-2][:2]) #checking\n",
    "                if num: #if number then (stop)\n",
    "                    msg_now = g1[i-2]+ \" \" + g1[i-1] + \" \" + line #current and prev2 lines are same convo. merge them\n",
    "                    msgs.append(msg_now) #put in list\n",
    "                    #delete last 2 lines\n",
    "                    msgs.pop(pos-1)\n",
    "                    #msgs.pop(-1)\n",
    "            except: #Gets here if it's not a number, so it's a continuation still\n",
    "                \"\"\"\n",
    "                Since it's not a number/date, means it's line 4 of the prev3 lines.\n",
    "                \"\"\"\n",
    "                try: #check if three lines before it starts with a number\n",
    "                    num = int(g1[i-3][:2]) #checking\n",
    "                    if num: #if number then (stop)\n",
    "                        msg_now = g1[i-3] + \" \" + g1[i-2]+ \" \" + g1[i-1] + \" \" + line #current and prev3 lines are same convo. merge them\n",
    "                        msgs.append(msg_now) #put in list\n",
    "                        #delete last 3 lines\n",
    "                        msgs.pop(pos-1)\n",
    "                        #msgs.pop(-1)\n",
    "                        #msgs.pop(-1)\n",
    "                except: #Gets here if it's not a number, so it's a continuation still\n",
    "                    \"\"\"\n",
    "                    Since it's not a number/date, means it's line 5 of the prev4 lines.\n",
    "                    \"\"\"\n",
    "                    try: #check if three lines before it starts with a number\n",
    "                        num = int(g1[i-4][:2]) #checking\n",
    "                        if num: #if number then (stop)\n",
    "                            msg_now = g1[i-4] + \" \" + g1[i-3] + \" \" + g1[i-2]+ \" \" + g1[i-1] + \" \" + line #current and prev3 lines are same convo. merge them\n",
    "                            msgs.append(msg_now) #put in list\n",
    "                            #delete last 4 lines\n",
    "                            msgs.pop(pos-1)\n",
    "                            #msgs.pop(-1)\n",
    "                            #msgs.pop(-1)\n",
    "                            #msgs.pop(-1)\n",
    "                    except: #Gets here if it's not a number, so it's a continuation still\n",
    "                        \"\"\"\n",
    "                        Since it's not a number/date, means it's line 6 of the prev5 lines.\n",
    "                        \"\"\"\n",
    "                        try: #check if four lines before it starts with a number\n",
    "                            num = int(g1[i-5][:2]) #checking\n",
    "                            if num: #if number then (stop)\n",
    "                                msg_now = g1[i-5] + \" \" + g1[i-4] + \" \" + g1[i-3] + \" \" + g1[i-2]+ \" \" + g1[i-1] + \" \" + line #current and prev3 lines are same convo. merge them\n",
    "                                msgs.append(msg_now) #put in list\n",
    "                                #delete last 5 lines\n",
    "                                msgs.pop(pos-1)\n",
    "                        except: #Gets here if it's not a number, so it's a continuation still\n",
    "                            \"\"\"\n",
    "                            Since it's not a number/date, means it's line 7 of the prev6 lines.\n",
    "                            \"\"\"\n",
    "                            try: #check if five lines before it starts with a number\n",
    "                                num = int(g1[i-6][:2]) #checking\n",
    "                                if num: #if number then (stop)\n",
    "                                    msg_now = g1[i-6] + \" \" + g1[i-5] + \" \" + g1[i-4] + \" \" + g1[i-3] + \" \" + g1[i-2]+ \" \" + g1[i-1] + \" \" + line #current and prev3 lines are same convo. merge them\n",
    "                                    msgs.append(msg_now) #put in list\n",
    "                                    #delete last 5 lines\n",
    "                                    msgs.pop(pos-1)\n",
    "                            except: #Gets here if it's not a number, so it's a continuation still\n",
    "                                \"\"\"\n",
    "                                Since it's not a number/date, means it's line 8 of the prev7 lines.\n",
    "                                \"\"\"\n",
    "                                try: #check if five lines before it starts with a number\n",
    "                                    num = int(g1[i-7][:2]) #checking\n",
    "                                    if num: #if number then (stop)\n",
    "                                        msg_now = g1[i-7] + \" \" + g1[i-6] + \" \" + g1[i-5] + \" \" + g1[i-4] + \" \" + g1[i-3] + \" \" + g1[i-2]+ \" \" + g1[i-1] + \" \" + line #current and prev3 lines are same convo. merge them\n",
    "                                        msgs.append(msg_now) #put in list\n",
    "                                        #delete last 5 lines\n",
    "                                        msgs.pop(pos-1)\n",
    "                                except: #Gets here if it's not a number, so it's a continuation still\n",
    "                                    \"\"\"\n",
    "                                    Since it's not a number/date, means it's line 9 of the prev8 lines.\n",
    "                                    \"\"\"\n",
    "                                    try: #check if five lines before it starts with a number\n",
    "                                        num = int(g1[i-8][:2]) #checking\n",
    "                                        if num: #if number then (stop)\n",
    "                                            msg_now = g1[i-8] + \" \" + g1[i-7] + \" \" + g1[i-6] + \" \" + g1[i-5] + \" \" + g1[i-4] + \" \" + g1[i-3] + \" \" + g1[i-2]+ \" \" + g1[i-1] + \" \" + line #current and prev3 lines are same convo. merge them\n",
    "                                            msgs.append(msg_now) #put in list\n",
    "                                            #delete last 5 lines\n",
    "                                            msgs.pop(pos-1)\n",
    "                                    except: #Gets here if it's not a number, so it's a continuation still\n",
    "                                        \"\"\"\n",
    "                                        Since it's not a number/date, means it's line 10 of the prev9 lines.\n",
    "                                        \"\"\"\n",
    "                                        try: #check if five lines before it starts with a number\n",
    "                                            num = int(g1[i-9][:2]) #checking\n",
    "                                            if num: #if number then (stop)\n",
    "                                                msg_now = g1[i-9] + \" \" + g1[i-8] + \" \" + g1[i-7] + \" \" + g1[i-6] + \" \" + g1[i-5] + \" \" + g1[i-4] + \" \" + g1[i-3] + \" \" + g1[i-2]+ \" \" + g1[i-1] + \" \" + line #current and prev3 lines are same convo. merge them\n",
    "                                                msgs.append(msg_now) #put in list\n",
    "                                                #delete last 5 lines\n",
    "                                                msgs.pop(pos-1)   \n",
    "                                        except: #Gets here if it's not a number, so it's a continuation still\n",
    "                                            \"\"\"\n",
    "                                            Since it's not a number/date, means it's line 11 of the prev10 lines.\n",
    "                                            \"\"\"\n",
    "                                            try: #check if five lines before it starts with a number\n",
    "                                                num = int(g1[i-10][:2]) #checking\n",
    "                                                if num: #if number then (stop)\n",
    "                                                    msg_now = g1[i-10] + \" \" + g1[i-9] + \" \" + g1[i-8] + \" \" + g1[i-7] + \" \" + g1[i-6] + \" \" + g1[i-5] + \" \" + g1[i-4] + \" \" + g1[i-3] + \" \" + g1[i-2]+ \" \" + g1[i-1] + \" \" + line #current and prev3 lines are same convo. merge them\n",
    "                                                    msgs.append(msg_now) #put in list\n",
    "                                                    #delete last 5 lines\n",
    "                                                    msgs.pop(pos-1)\n",
    "                                            except: #Gets here if it's not a number, so it's a continuation still\n",
    "                                                \"\"\"\n",
    "                                                Since it's not a number/date, means it's line 12 of the prev11 lines.\n",
    "                                                \"\"\"\n",
    "                                                try: #check if five lines before it starts with a number\n",
    "                                                    num = int(g1[i-11][:2]) #checking\n",
    "                                                    if num: #if number then (stop)\n",
    "                                                        msg_now = g1[i-11] + \" \" + g1[i-10] + \" \" + g1[i-9] + \" \" + g1[i-8] + \" \" + g1[i-7] + \" \" + g1[i-6] + \" \" + g1[i-5] + \" \" + g1[i-4] + \" \" + g1[i-3] + \" \" + g1[i-2]+ \" \" + g1[i-1] + \" \" + line #current and prev3 lines are same convo. merge them\n",
    "                                                        msgs.append(msg_now) #put in list\n",
    "                                                        #delete last 5 lines\n",
    "                                                        msgs.pop(pos-1)\n",
    "                                                except: #Gets here if it's not a number, so it's a continuation still\n",
    "                                                    \"\"\"\n",
    "                                                    Since it's not a number/date, means it's line 13 of the prev12 lines.\n",
    "                                                    \"\"\"\n",
    "                                                    try: #check if five lines before it starts with a number\n",
    "                                                        num = int(g1[i-12][:2]) #checking\n",
    "                                                        if num: #if number then (stop)\n",
    "                                                            msg_now = g1[i-12] + \" \" + g1[i-11] + \" \" + g1[i-10] + \" \" + g1[i-9] + \" \" + g1[i-8] + \" \" + g1[i-7] + \" \" + g1[i-6] + \" \" + g1[i-5] + \" \" + g1[i-4] + \" \" + g1[i-3] + \" \" + g1[i-2]+ \" \" + g1[i-1] + \" \" + line #current and prev3 lines are same convo. merge them\n",
    "                                                            msgs.append(msg_now) #put in list\n",
    "                                                            #delete last 5 lines\n",
    "                                                            msgs.pop(pos-1)\n",
    "                                                    except: #Gets here if it's not a number, so it's a continuation still\n",
    "                                                        \"\"\"\n",
    "                                                        Since it's not a number/date, means it's line 14 of the prev13 lines.\n",
    "                                                        \"\"\"\n",
    "                                                        try: #check if five lines before it starts with a number\n",
    "                                                            num = int(g1[i-13][:2]) #checking\n",
    "                                                            if num: #if number then (stop)\n",
    "                                                                msg_now = g1[i-13] + \" \" + g1[i-12] + \" \" + g1[i-11] + \" \" + g1[i-10] + \" \" + g1[i-9] + \" \" + g1[i-8] + \" \" + g1[i-7] + \" \" + g1[i-6] + \" \" + g1[i-5] + \" \" + g1[i-4] + \" \" + g1[i-3] + \" \" + g1[i-2]+ \" \" + g1[i-1] + \" \" + line #current and prev3 lines are same convo. merge them\n",
    "                                                                msgs.append(msg_now) #put in list\n",
    "                                                                #delete last 5 lines\n",
    "                                                                msgs.pop(pos-1)\n",
    "                                                        except: #Gets here if it's not a number, so it's a continuation still\n",
    "                                                            \"\"\"\n",
    "                                                            Since it's not a number/date, means it's line 15 of the prev14 lines.\n",
    "                                                            \"\"\"\n",
    "                                                            try: #check if five lines before it starts with a number\n",
    "                                                                num = int(g1[i-14][:2]) #checking\n",
    "                                                                if num: #if number then (stop)\n",
    "                                                                    msg_now = g1[i-14] + \" \" + g1[i-13] + \" \" + g1[i-12] + \" \" + g1[i-11] + \" \" + g1[i-10] + \" \" + g1[i-9] + \" \" + g1[i-8] + \" \" + g1[i-7] + \" \" + g1[i-6] + \" \" + g1[i-5] + \" \" + g1[i-4] + \" \" + g1[i-3] + \" \" + g1[i-2]+ \" \" + g1[i-1] + \" \" + line #current and prev3 lines are same convo. merge them\n",
    "                                                                    msgs.append(msg_now) #put in list\n",
    "                                                                    #delete last 5 lines\n",
    "                                                                    msgs.pop(pos-1)    \n",
    "                                                            except:\n",
    "                                                                print(\"I'm left out man!\\n{}\\n\\n\".format(len(msgs)))\n",
    "                                "
   ]
  },
  {
   "cell_type": "code",
   "execution_count": 10,
   "metadata": {},
   "outputs": [
    {
     "name": "stdout",
     "output_type": "stream",
     "text": [
      "0 10/22/19, 1:26 PM - Messages to this group are now secured with end-to-end encryption. Tap for more info.\n",
      "1 10/22/19, 1:26 PM - You created group \"#AskPyFesh \"\n",
      "2 10/22/19, 1:28 PM - MaduDOMINIC: Ask Python Fesh\n",
      "3 10/22/19, 1:28 PM - MaduDOMINIC: Odi ok\n",
      "4 10/22/19, 1:28 PM - MaduDOMINIC: Anyi ebidogo\n",
      "5 10/22/19, 1:30 PM - You changed the group description\n",
      "6 10/22/19, 1:30 PM - Paschal Chukwuemeka Amah: Hehe.\n",
      "7 Na so.\n",
      "8 10/22/19, 1:30 PM - Paschal Chukwuemeka Amah: Trying to find the next big pythonista.\n",
      "9 So, historically na Igwe enter the group first.\n",
      "10 10/22/19, 1:31 PM - Paschal Chukwuemeka Amah: I'll delete all this sha just before I start sharing links and having people join.\n",
      "11 10/22/19, 1:34 PM - You changed this group's icon\n",
      "12 10/22/19, 1:35 PM - You changed this group's icon\n",
      "13 10/22/19, 1:46 PM - You changed the group description\n",
      "14 10/22/19, 8:00 PM - Adafin joined using this group's invite link\n",
      "15 10/22/19, 8:00 PM - +234 818 559 0066 joined using this group's invite link\n",
      "16 10/22/19, 8:10 PM - +234 703 120 1331 joined using this group's invite link\n",
      "17 10/22/19, 8:14 PM - +234 906 883 7990 joined using this group's invite link\n",
      "18 10/22/19, 8:17 PM - +234 805 052 8131 joined using this group's invite link\n",
      "19 10/22/19, 8:23 PM - Valentine D-GASM joined using this group's invite link\n",
      "20 10/22/19, 8:26 PM - Ojei Toritsemoshe D-GASM joined using this group's invite link\n",
      "21 10/22/19, 8:32 PM - Chigozie Njoku D-GASM joined using this group's invite link\n",
      "22 10/22/19, 8:33 PM - Chigozie Njoku D-GASM: #AskFeshIntro\n",
      "23 Name: Chigozie Njoku\n",
      "24 City of residence: Lagos\n",
      "25 10/22/19, 8:34 PM - +234 706 444 3217 joined using this group's invite link\n",
      "26 10/22/19, 8:34 PM - +234 816 629 7839 joined using this group's invite link\n",
      "27 10/22/19, 8:37 PM - +234 810 004 6353 joined using this group's invite link\n",
      "28 10/22/19, 8:37 PM - +234 810 086 7971 joined using this group's invite link\n",
      "29 10/22/19, 8:39 PM - +234 805 052 8131: #AskFeshIntro\n",
      "30 Taofik Sanni\n",
      "31 Lagos\n",
      "32 10/22/19, 8:39 PM - +234 806 734 7912 joined using this group's invite link\n",
      "33 10/22/19, 8:39 PM - +234 806 734 7912: This message was deleted\n",
      "34 10/22/19, 8:39 PM - +234 818 847 1990 joined using this group's invite link\n",
      "35 10/22/19, 8:39 PM - +234 806 734 7912: We Dey here \n",
      "36 When the python 🐍 class they start\n",
      "37 10/22/19, 8:39 PM - +234 806 734 7912: No time\n",
      "38 10/22/19, 8:41 PM - +234 818 847 1990: Hi Everyone I am Ikechukwu, based in Lagos #AskFeshIntro\n",
      "39 10/22/19, 8:42 PM - +234 818 860 2046 joined using this group's invite link\n",
      "40 10/22/19, 8:42 PM - Adafin: Opeyemi in the building\n",
      "41 10/22/19, 8:43 PM - +234 703 120 1331: Hello All I'm Adedamola I reside in Lagos #AskFeshIntro\n",
      "42 10/22/19, 8:45 PM - +234 803 711 3263 joined using this group's invite link\n",
      "43 10/22/19, 8:49 PM - +234 703 281 5348 joined using this group's invite link\n",
      "44 10/22/19, 8:56 PM - +234 706 130 1525 joined using this group's invite link\n",
      "45 10/22/19, 8:57 PM - +234 812 053 1560 joined using this group's invite link\n",
      "46 10/22/19, 9:01 PM - +234 810 831 6393 joined using this group's invite link\n",
      "47 10/22/19, 9:02 PM - +234 706 277 6106 joined using this group's invite link\n",
      "48 10/22/19, 9:05 PM - +234 818 936 4697 joined using this group's invite link\n",
      "49 10/22/19, 9:06 PM - +234 812 053 1560: print(\"John Ojo, City: Lagos\") #Askfeshintro\n"
     ]
    }
   ],
   "source": [
    "len(g1)\n",
    "for i, line in enumerate(g1[:50]):\n",
    "    print(i, line)"
   ]
  },
  {
   "cell_type": "code",
   "execution_count": 11,
   "metadata": {},
   "outputs": [
    {
     "name": "stdout",
     "output_type": "stream",
     "text": [
      "0 10/22/19, 1:26 pm - messages to this group are now secured with end-to-end encryption. tap for more info.\n",
      "1 10/22/19, 1:26 pm - you created group \"#askpyfesh \"\n",
      "2 10/22/19, 1:28 pm - madudominic: ask python fesh\n",
      "3 10/22/19, 1:28 pm - madudominic: odi ok\n",
      "4 10/22/19, 1:28 pm - madudominic: anyi ebidogo\n",
      "5 10/22/19, 1:30 pm - you changed the group description\n",
      "6 10/22/19, 1:30 PM - Paschal Chukwuemeka Amah: Hehe. na so.\n",
      "7 10/22/19, 1:30 PM - Paschal Chukwuemeka Amah: Trying to find the next big pythonista. so, historically na igwe enter the group first.\n",
      "8 10/22/19, 1:31 pm - paschal chukwuemeka amah: i'll delete all this sha just before i start sharing links and having people join.\n",
      "9 10/22/19, 1:34 pm - you changed this group's icon\n",
      "10 10/22/19, 1:35 pm - you changed this group's icon\n",
      "11 10/22/19, 1:46 pm - you changed the group description\n",
      "12 10/22/19, 8:00 pm - adafin joined using this group's invite link\n",
      "13 10/22/19, 8:00 pm - +234 818 559 0066 joined using this group's invite link\n",
      "14 10/22/19, 8:10 pm - +234 703 120 1331 joined using this group's invite link\n",
      "15 10/22/19, 8:14 pm - +234 906 883 7990 joined using this group's invite link\n",
      "16 10/22/19, 8:17 pm - +234 805 052 8131 joined using this group's invite link\n",
      "17 10/22/19, 8:23 pm - valentine d-gasm joined using this group's invite link\n",
      "18 10/22/19, 8:26 pm - ojei toritsemoshe d-gasm joined using this group's invite link\n",
      "19 10/22/19, 8:32 pm - chigozie njoku d-gasm joined using this group's invite link\n",
      "20 10/22/19, 8:33 PM - Chigozie Njoku D-GASM: #AskFeshIntro Name: Chigozie Njoku city of residence: lagos\n",
      "21 10/22/19, 8:34 pm - +234 706 444 3217 joined using this group's invite link\n",
      "22 10/22/19, 8:34 pm - +234 816 629 7839 joined using this group's invite link\n",
      "23 10/22/19, 8:37 pm - +234 810 004 6353 joined using this group's invite link\n",
      "24 10/22/19, 8:37 pm - +234 810 086 7971 joined using this group's invite link\n",
      "25 10/22/19, 8:39 PM - +234 805 052 8131: #AskFeshIntro Taofik Sanni lagos\n",
      "26 10/22/19, 8:39 pm - +234 806 734 7912 joined using this group's invite link\n",
      "27 10/22/19, 8:39 pm - +234 806 734 7912: this message was deleted\n",
      "28 10/22/19, 8:39 pm - +234 818 847 1990 joined using this group's invite link\n",
      "29 10/22/19, 8:39 PM - +234 806 734 7912: We Dey here  when the python 🐍 class they start\n",
      "30 10/22/19, 8:39 pm - +234 806 734 7912: no time\n",
      "31 10/22/19, 8:41 pm - +234 818 847 1990: hi everyone i am ikechukwu, based in lagos #askfeshintro\n",
      "32 10/22/19, 8:42 pm - +234 818 860 2046 joined using this group's invite link\n",
      "33 10/22/19, 8:42 pm - adafin: opeyemi in the building\n",
      "34 10/22/19, 8:43 pm - +234 703 120 1331: hello all i'm adedamola i reside in lagos #askfeshintro\n",
      "35 10/22/19, 8:45 pm - +234 803 711 3263 joined using this group's invite link\n",
      "36 10/22/19, 8:49 pm - +234 703 281 5348 joined using this group's invite link\n",
      "37 10/22/19, 8:56 pm - +234 706 130 1525 joined using this group's invite link\n",
      "38 10/22/19, 8:57 pm - +234 812 053 1560 joined using this group's invite link\n",
      "39 10/22/19, 9:01 pm - +234 810 831 6393 joined using this group's invite link\n",
      "40 10/22/19, 9:02 pm - +234 706 277 6106 joined using this group's invite link\n",
      "41 10/22/19, 9:05 pm - +234 818 936 4697 joined using this group's invite link\n",
      "42 10/22/19, 9:06 pm - +234 812 053 1560: print(\"john ojo, city: lagos\") #askfeshintro\n",
      "43 10/22/19, 9:15 pm - +234 903 881 9790 joined using this group's invite link\n",
      "44 10/22/19, 9:26 pm - +234 813 533 2067 joined using this group's invite link\n",
      "45 10/22/19, 9:31 pm - +234 703 553 4253 joined using this group's invite link\n",
      "46 10/22/19, 9:32 PM - +234 813 533 2067: *#Feshintro* Name : Agboli Victor location: kwara state\n",
      "47 10/22/19, 9:35 PM - +234 810 831 6393: #Feshintro Name: Muhammad Abiodun Sulaiman location: lagos state\n",
      "48 10/22/19, 10:08 pm - francis obasi d-gasm joined using this group's invite link\n",
      "49 10/22/19, 10:16 pm - +254 717 434244 joined using this group's invite link\n"
     ]
    }
   ],
   "source": [
    "len(msgs)\n",
    "for i, line in enumerate(msgs[:50]):\n",
    "    print(i, line)"
   ]
  },
  {
   "cell_type": "code",
   "execution_count": 12,
   "metadata": {},
   "outputs": [],
   "source": [
    "intro_lines = [line.lower() for line in msgs if \"Intro\" in line]"
   ]
  },
  {
   "cell_type": "code",
   "execution_count": 13,
   "metadata": {},
   "outputs": [
    {
     "data": {
      "text/plain": [
       "27"
      ]
     },
     "execution_count": 13,
     "metadata": {},
     "output_type": "execute_result"
    }
   ],
   "source": [
    "len(intro_lines)"
   ]
  },
  {
   "cell_type": "code",
   "execution_count": 14,
   "metadata": {},
   "outputs": [
    {
     "data": {
      "text/plain": [
       "['10/22/19, 8:33 pm - chigozie njoku d-gasm: #askfeshintro name: chigozie njoku city of residence: lagos',\n",
       " '10/22/19, 8:39 pm - +234 805 052 8131: #askfeshintro taofik sanni lagos',\n",
       " '10/22/19, 10:17 pm - paschal chukwuemeka amah: warm welcome to *#askpyfesh*! 😁 let us please tarry a while (24hrs) to allow folks to join in before we start off. this will give the majority of us the chance to start on the same page. again, warm welcome. - _this is fesh_ 🙇 #askfeshintro location: lagos.',\n",
       " '10/22/19, 11:08 pm - +234 803 509 7061: #askfeshintro gambo nurudeen bello from ilorin',\n",
       " '10/22/19, 11:09 pm - +234 903 895 4127: #askfeshintro  emeka boris ama from port harcourt',\n",
       " '10/22/19, 11:41 pm - +234 705 340 6810: #askfeshintro  hi everyone. my name is ehi and i reside in port harcourt.',\n",
       " '10/23/19, 12:31 am - +234 903 881 9790: #askfreshintro oladeji lawrence from lagos',\n",
       " '10/23/19, 1:22 am - madudominic: #askfeshintro dominic madu location: lagos',\n",
       " '10/23/19, 7:32 am - +234 803 406 5079: #askfreshintro jude ejepu  minna, niger state',\n",
       " '10/23/19, 7:50 am - paschal chukwuemeka amah: _2/3 repeat message_ warm welcome to *#askpyfesh*! 😁 let us please tarry a while (~12hrs) to allow folks to join in before we start off. this will give the majority of us the chance to start on the same page. *ps*: join link will be revoked by then. at least temporarily. if you have not, and would want to be enumerated, drop your first message with the tag _*#askpyfeshintro*_ with your preferred name and location. again, warm welcome. - _this is fesh_ 🙇',\n",
       " '10/23/19, 8:30 am - +234 706 444 3217: #askpyfeshintro chuks lagos',\n",
       " '10/23/19, 8:35 am - +234 703 281 5348: #askfreshintro adekunle opeyemi  lagos',\n",
       " '10/23/19, 8:41 am - adafin: #askfeshintro  opeyemi joe  lagos',\n",
       " '10/23/19, 9:00 am - +234 706 853 7939: #askfeshintro. name: tammy cor   : port-harcourt',\n",
       " '10/23/19, 9:15 am - +234 905 488 8162: #askfeshintro. name: ayomide cor   : lagos',\n",
       " '10/23/19, 9:24 am - +234 706 516 7280: #askfeshintro. name: jide cor   : lagos',\n",
       " '10/23/19, 10:07 am - +972 54-226-9638: #intro nl bonn',\n",
       " '10/23/19, 11:45 am - +234 805 209 7945: *#askfeshintro* nkem lagos',\n",
       " '10/23/19, 4:00 pm - ojei toritsemoshe d-gasm: #askfeshintro ojei tooritse lagos',\n",
       " '10/23/19, 7:05 pm - paschal chukwuemeka amah: _3/3 repeat message_ warm welcome to *#askpyfesh*! 😁 in an hour we shall revoke the join link and open the floor. if you have not, and would want to be enumerated, drop your first message with the tag _*#askpyfeshintro*_ with your preferred name and location. *upcoming event* _*time*_: 22:15hrs gmt* (10:15pm lagos time) _*agenda*_: guidance on getting your computer ready to write the language. _*recommended tools*_: your laptop or desktop and a working internet connection. again, warm welcome. - == _this is fesh_ 🙇 !=_fresh_ 😀',\n",
       " '10/23/19, 7:13 pm - +234 706 130 1525: #askfeshintro mayokun lagos',\n",
       " '10/23/19, 7:18 pm - +1 (587) 434-5627: #askfeshintro thelma calgary',\n",
       " '10/23/19, 7:20 pm - +234 703 059 4261: #askfeshintro george  port harcourt',\n",
       " '10/23/19, 7:22 pm - budo: *#askpyfeshintro* ogb enugu',\n",
       " '10/23/19, 8:08 pm - +234 706 853 7939: #askpyfeshintro tammy portharcourt',\n",
       " '10/23/19, 8:15 pm - +234 805 326 3849: #askpyfeshintro alfred port harcourt',\n",
       " '10/23/19, 8:57 pm - charles echefu #askpyfesh: #askpyfeshintro charles  lagos']"
      ]
     },
     "execution_count": 14,
     "metadata": {},
     "output_type": "execute_result"
    }
   ],
   "source": [
    "intro_lines"
   ]
  },
  {
   "cell_type": "code",
   "execution_count": 15,
   "metadata": {},
   "outputs": [],
   "source": [
    "df = pd.DataFrame()\n",
    "df[\"messages\"] = intro_lines"
   ]
  },
  {
   "cell_type": "code",
   "execution_count": 16,
   "metadata": {},
   "outputs": [],
   "source": [
    "df.to_csv(\"cleaned_intro.csv\")"
   ]
  }
 ],
 "metadata": {
  "kernelspec": {
   "display_name": "Python 3",
   "language": "python",
   "name": "python3"
  },
  "language_info": {
   "codemirror_mode": {
    "name": "ipython",
    "version": 3
   },
   "file_extension": ".py",
   "mimetype": "text/x-python",
   "name": "python",
   "nbconvert_exporter": "python",
   "pygments_lexer": "ipython3",
   "version": "3.7.4"
  }
 },
 "nbformat": 4,
 "nbformat_minor": 2
}
