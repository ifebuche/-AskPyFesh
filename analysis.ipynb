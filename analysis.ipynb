{
 "cells": [
  {
   "cell_type": "code",
   "execution_count": 1,
   "metadata": {},
   "outputs": [],
   "source": [
    "import pandas as pd\n",
    "import re"
   ]
  },
  {
   "cell_type": "code",
   "execution_count": 2,
   "metadata": {},
   "outputs": [],
   "source": [
    "#######\n",
    "#pandas.read_fwf(filepath_or_buffer: Union[str, pathlib.Path, IO[~AnyStr]], colspecs='infer', widths=None, \n",
    "#infer_nrows=100, **kwds)\n",
    "#Read a table of fixed-width formatted lines into DataFrame.\n",
    "#Also supports optionally iterating or breaking of the file into chunks.\"\"\"\n",
    "########\n",
    "\n",
    "#df = pd.read_fwf(\"WhatsApp Chat with #AskPyFesh.txt\", encoding=\"utf-8\", header=None)\n",
    "#reads empty lines and returns them as Nan. Not pretty."
   ]
  },
  {
   "cell_type": "code",
   "execution_count": 3,
   "metadata": {},
   "outputs": [],
   "source": [
    "wats = pd.read_csv(\"WhatsApp Chat with #AskPyFesh.txt\", delimiter=\"\\t\", header=None)"
   ]
  },
  {
   "cell_type": "code",
   "execution_count": 4,
   "metadata": {},
   "outputs": [
    {
     "data": {
      "text/plain": [
       "(405, 1)"
      ]
     },
     "execution_count": 4,
     "metadata": {},
     "output_type": "execute_result"
    }
   ],
   "source": [
    "wats.shape"
   ]
  },
  {
   "cell_type": "code",
   "execution_count": 5,
   "metadata": {},
   "outputs": [],
   "source": [
    "wats.columns = [\"message\"]"
   ]
  },
  {
   "cell_type": "code",
   "execution_count": 6,
   "metadata": {},
   "outputs": [
    {
     "data": {
      "text/html": [
       "<div>\n",
       "<style scoped>\n",
       "    .dataframe tbody tr th:only-of-type {\n",
       "        vertical-align: middle;\n",
       "    }\n",
       "\n",
       "    .dataframe tbody tr th {\n",
       "        vertical-align: top;\n",
       "    }\n",
       "\n",
       "    .dataframe thead th {\n",
       "        text-align: right;\n",
       "    }\n",
       "</style>\n",
       "<table border=\"1\" class=\"dataframe\">\n",
       "  <thead>\n",
       "    <tr style=\"text-align: right;\">\n",
       "      <th></th>\n",
       "      <th>message</th>\n",
       "    </tr>\n",
       "  </thead>\n",
       "  <tbody>\n",
       "    <tr>\n",
       "      <td>0</td>\n",
       "      <td>10/22/19, 1:26 PM - Messages to this group are...</td>\n",
       "    </tr>\n",
       "    <tr>\n",
       "      <td>1</td>\n",
       "      <td>10/22/19, 1:26 PM - You created group \"#AskPyF...</td>\n",
       "    </tr>\n",
       "    <tr>\n",
       "      <td>2</td>\n",
       "      <td>10/22/19, 1:28 PM - MaduDOMINIC: Ask Python Fesh</td>\n",
       "    </tr>\n",
       "    <tr>\n",
       "      <td>3</td>\n",
       "      <td>10/22/19, 1:28 PM - MaduDOMINIC: Odi ok</td>\n",
       "    </tr>\n",
       "    <tr>\n",
       "      <td>4</td>\n",
       "      <td>10/22/19, 1:28 PM - MaduDOMINIC: Anyi ebidogo</td>\n",
       "    </tr>\n",
       "  </tbody>\n",
       "</table>\n",
       "</div>"
      ],
      "text/plain": [
       "                                             message\n",
       "0  10/22/19, 1:26 PM - Messages to this group are...\n",
       "1  10/22/19, 1:26 PM - You created group \"#AskPyF...\n",
       "2   10/22/19, 1:28 PM - MaduDOMINIC: Ask Python Fesh\n",
       "3            10/22/19, 1:28 PM - MaduDOMINIC: Odi ok\n",
       "4      10/22/19, 1:28 PM - MaduDOMINIC: Anyi ebidogo"
      ]
     },
     "execution_count": 6,
     "metadata": {},
     "output_type": "execute_result"
    }
   ],
   "source": [
    "wats.head()"
   ]
  },
  {
   "cell_type": "code",
   "execution_count": 7,
   "metadata": {},
   "outputs": [
    {
     "data": {
      "text/html": [
       "<div>\n",
       "<style scoped>\n",
       "    .dataframe tbody tr th:only-of-type {\n",
       "        vertical-align: middle;\n",
       "    }\n",
       "\n",
       "    .dataframe tbody tr th {\n",
       "        vertical-align: top;\n",
       "    }\n",
       "\n",
       "    .dataframe thead th {\n",
       "        text-align: right;\n",
       "    }\n",
       "</style>\n",
       "<table border=\"1\" class=\"dataframe\">\n",
       "  <thead>\n",
       "    <tr style=\"text-align: right;\">\n",
       "      <th></th>\n",
       "      <th>message</th>\n",
       "    </tr>\n",
       "  </thead>\n",
       "  <tbody>\n",
       "    <tr>\n",
       "      <td>400</td>\n",
       "      <td>_-Fesh-_</td>\n",
       "    </tr>\n",
       "    <tr>\n",
       "      <td>401</td>\n",
       "      <td>10/24/19, 8:40 AM - +234 812 481 1464: Kudos @...</td>\n",
       "    </tr>\n",
       "    <tr>\n",
       "      <td>402</td>\n",
       "      <td>10/24/19, 8:44 AM - Budo: I'm getting confused...</td>\n",
       "    </tr>\n",
       "    <tr>\n",
       "      <td>403</td>\n",
       "      <td>10/24/19, 8:46 AM - Paschal Chukwuemeka Amah: ...</td>\n",
       "    </tr>\n",
       "    <tr>\n",
       "      <td>404</td>\n",
       "      <td>10/24/19, 9:06 AM - +1 (647) 679-8746 joined u...</td>\n",
       "    </tr>\n",
       "  </tbody>\n",
       "</table>\n",
       "</div>"
      ],
      "text/plain": [
       "                                               message\n",
       "400                                           _-Fesh-_\n",
       "401  10/24/19, 8:40 AM - +234 812 481 1464: Kudos @...\n",
       "402  10/24/19, 8:44 AM - Budo: I'm getting confused...\n",
       "403  10/24/19, 8:46 AM - Paschal Chukwuemeka Amah: ...\n",
       "404  10/24/19, 9:06 AM - +1 (647) 679-8746 joined u..."
      ]
     },
     "execution_count": 7,
     "metadata": {},
     "output_type": "execute_result"
    }
   ],
   "source": [
    "wats.tail()"
   ]
  },
  {
   "cell_type": "code",
   "execution_count": 8,
   "metadata": {},
   "outputs": [],
   "source": [
    "#Convert to list for flexibility\n",
    "g1 = wats.message.to_list()"
   ]
  },
  {
   "cell_type": "markdown",
   "metadata": {},
   "source": [
    "# Initial Clean up"
   ]
  },
  {
   "cell_type": "code",
   "execution_count": 9,
   "metadata": {},
   "outputs": [],
   "source": [
    "# ########\n",
    "# #Whatsapp messages export breaks a person's chats into new lines with every return carriage input\n",
    "# #This makes imported messages show these lines on new lines/rows in the mix insteading of holding all convo as one\n",
    "# #irrespective of the return carriage points\n",
    "# #So the task here is gathering all posts by each person into a single row\n",
    "\n",
    "# #Refacroring needed here\n",
    "# ###########\n",
    "\n",
    "# msgs = [] #list to hold our cleaned lines\n",
    "# pos = 0 #a counter to track where we are at msgs so we can delete/pop lines \n",
    "\n",
    "# #Flow: If a line starts with a date, it is a single chat ot start of a single chat, pick it and go to next line\n",
    "# #If the following line doesn't start with a date, check if the line before starts with a date, if it does, this line\n",
    "# #is only line 2, merge this line and the previous then the previous line as the current line writes the previous + current\n",
    "# #Elif the previous line doesn't start with a date, check the one before it till the 13th before it. For each stage,\n",
    "# #take the line with date starting as the begining of the chat and concat the following lines till the current with spaces\n",
    "# #to make a whole chat into a single row\n",
    "\n",
    "# for i, line in enumerate(g1):\n",
    "#     line = line.lower()\n",
    "#     try:\n",
    "#         num = int(line[:2]) #Start of line, see if a date which will start with a number\n",
    "#         if num:\n",
    "#             msgs.append(line)\n",
    "#             pos += 1\n",
    "#     except:\n",
    "#         \"\"\"\n",
    "#         So it's not a number/date meaning its line 2 the prev line.\n",
    "#         Check if the line before it starts with a number/date\n",
    "#         \"\"\"\n",
    "#         try: #checking\n",
    "#             num = int(g1[i-1][:2]) #line being tried\n",
    "#             if num: #if number then (stop)\n",
    "#                 msg_now = g1[i-1]+ \" \" + line #current and prev lines are same convo. merge them\n",
    "#                 msgs.append(msg_now) #put in the list\n",
    "#                 msgs.pop(pos-1) #remove the previous line item\n",
    "#                 #pos -= 1\n",
    "#                 #end of show\n",
    "#         except: #Gets here if it's not a number, so it's a continuation still\n",
    "#             \"\"\"\n",
    "#             Since it's not a number/date, means it's line 3 of the prev2 lines.\n",
    "#             \"\"\"\n",
    "#             try: #check if two lines before it starts with a number\n",
    "#                 num = int(g1[i-2][:2]) #checking\n",
    "#                 if num: #if number then (stop)\n",
    "#                     msg_now = g1[i-2]+ \" \" + g1[i-1] + \" \" + line #current and prev2 lines are same convo. merge them\n",
    "#                     msgs.append(msg_now) #put in list\n",
    "#                     #delete last 2 lines\n",
    "#                     msgs.pop(pos-1)\n",
    "#                     #msgs.pop(-1)\n",
    "#             except: #Gets here if it's not a number, so it's a continuation still\n",
    "#                 \"\"\"\n",
    "#                 Since it's not a number/date, means it's line 4 of the prev3 lines.\n",
    "#                 \"\"\"\n",
    "#                 try: #check if three lines before it starts with a number\n",
    "#                     num = int(g1[i-3][:2]) #checking\n",
    "#                     if num: #if number then (stop)\n",
    "#                         msg_now = g1[i-3] + \" \" + g1[i-2]+ \" \" + g1[i-1] + \" \" + line #current and prev3 lines are same convo. merge them\n",
    "#                         msgs.append(msg_now) #put in list\n",
    "#                         #delete last 3 lines\n",
    "#                         msgs.pop(pos-1)\n",
    "#                         #msgs.pop(-1)\n",
    "#                         #msgs.pop(-1)\n",
    "#                 except: #Gets here if it's not a number, so it's a continuation still\n",
    "#                     \"\"\"\n",
    "#                     Since it's not a number/date, means it's line 5 of the prev4 lines.\n",
    "#                     \"\"\"\n",
    "#                     try: #check if three lines before it starts with a number\n",
    "#                         num = int(g1[i-4][:2]) #checking\n",
    "#                         if num: #if number then (stop)\n",
    "#                             msg_now = g1[i-4] + \" \" + g1[i-3] + \" \" + g1[i-2]+ \" \" + g1[i-1] + \" \" + line #current and prev3 lines are same convo. merge them\n",
    "#                             msgs.append(msg_now) #put in list\n",
    "#                             #delete last 4 lines\n",
    "#                             msgs.pop(pos-1)\n",
    "#                             #msgs.pop(-1)\n",
    "#                             #msgs.pop(-1)\n",
    "#                             #msgs.pop(-1)\n",
    "#                     except: #Gets here if it's not a number, so it's a continuation still\n",
    "#                         \"\"\"\n",
    "#                         Since it's not a number/date, means it's line 6 of the prev5 lines.\n",
    "#                         \"\"\"\n",
    "#                         try: #check if four lines before it starts with a number\n",
    "#                             num = int(g1[i-5][:2]) #checking\n",
    "#                             if num: #if number then (stop)\n",
    "#                                 msg_now = g1[i-5] + \" \" + g1[i-4] + \" \" + g1[i-3] + \" \" + g1[i-2]+ \" \" + g1[i-1] + \" \" + line #current and prev3 lines are same convo. merge them\n",
    "#                                 msgs.append(msg_now) #put in list\n",
    "#                                 #delete last 5 lines\n",
    "#                                 msgs.pop(pos-1)\n",
    "#                         except: #Gets here if it's not a number, so it's a continuation still\n",
    "#                             \"\"\"\n",
    "#                             Since it's not a number/date, means it's line 7 of the prev6 lines.\n",
    "#                             \"\"\"\n",
    "#                             try: #check if five lines before it starts with a number\n",
    "#                                 num = int(g1[i-6][:2]) #checking\n",
    "#                                 if num: #if number then (stop)\n",
    "#                                     msg_now = g1[i-6] + \" \" + g1[i-5] + \" \" + g1[i-4] + \" \" + g1[i-3] + \" \" + g1[i-2]+ \" \" + g1[i-1] + \" \" + line #current and prev3 lines are same convo. merge them\n",
    "#                                     msgs.append(msg_now) #put in list\n",
    "#                                     #delete last 5 lines\n",
    "#                                     msgs.pop(pos-1)\n",
    "#                             except: #Gets here if it's not a number, so it's a continuation still\n",
    "#                                 \"\"\"\n",
    "#                                 Since it's not a number/date, means it's line 8 of the prev7 lines.\n",
    "#                                 \"\"\"\n",
    "#                                 try: #check if five lines before it starts with a number\n",
    "#                                     num = int(g1[i-7][:2]) #checking\n",
    "#                                     if num: #if number then (stop)\n",
    "#                                         msg_now = g1[i-7] + \" \" + g1[i-6] + \" \" + g1[i-5] + \" \" + g1[i-4] + \" \" + g1[i-3] + \" \" + g1[i-2]+ \" \" + g1[i-1] + \" \" + line #current and prev3 lines are same convo. merge them\n",
    "#                                         msgs.append(msg_now) #put in list\n",
    "#                                         #delete last 5 lines\n",
    "#                                         msgs.pop(pos-1)\n",
    "#                                 except: #Gets here if it's not a number, so it's a continuation still\n",
    "#                                     \"\"\"\n",
    "#                                     Since it's not a number/date, means it's line 9 of the prev8 lines.\n",
    "#                                     \"\"\"\n",
    "#                                     try: #check if five lines before it starts with a number\n",
    "#                                         num = int(g1[i-8][:2]) #checking\n",
    "#                                         if num: #if number then (stop)\n",
    "#                                             msg_now = g1[i-8] + \" \" + g1[i-7] + \" \" + g1[i-6] + \" \" + g1[i-5] + \" \" + g1[i-4] + \" \" + g1[i-3] + \" \" + g1[i-2]+ \" \" + g1[i-1] + \" \" + line #current and prev3 lines are same convo. merge them\n",
    "#                                             msgs.append(msg_now) #put in list\n",
    "#                                             #delete last 5 lines\n",
    "#                                             msgs.pop(pos-1)\n",
    "#                                     except: #Gets here if it's not a number, so it's a continuation still\n",
    "#                                         \"\"\"\n",
    "#                                         Since it's not a number/date, means it's line 10 of the prev9 lines.\n",
    "#                                         \"\"\"\n",
    "#                                         try: #check if five lines before it starts with a number\n",
    "#                                             num = int(g1[i-9][:2]) #checking\n",
    "#                                             if num: #if number then (stop)\n",
    "#                                                 msg_now = g1[i-9] + \" \" + g1[i-8] + \" \" + g1[i-7] + \" \" + g1[i-6] + \" \" + g1[i-5] + \" \" + g1[i-4] + \" \" + g1[i-3] + \" \" + g1[i-2]+ \" \" + g1[i-1] + \" \" + line #current and prev3 lines are same convo. merge them\n",
    "#                                                 msgs.append(msg_now) #put in list\n",
    "#                                                 #delete last 5 lines\n",
    "#                                                 msgs.pop(pos-1)   \n",
    "#                                         except: #Gets here if it's not a number, so it's a continuation still\n",
    "#                                             \"\"\"\n",
    "#                                             Since it's not a number/date, means it's line 11 of the prev10 lines.\n",
    "#                                             \"\"\"\n",
    "#                                             try: #check if five lines before it starts with a number\n",
    "#                                                 num = int(g1[i-10][:2]) #checking\n",
    "#                                                 if num: #if number then (stop)\n",
    "#                                                     msg_now = g1[i-10] + \" \" + g1[i-9] + \" \" + g1[i-8] + \" \" + g1[i-7] + \" \" + g1[i-6] + \" \" + g1[i-5] + \" \" + g1[i-4] + \" \" + g1[i-3] + \" \" + g1[i-2]+ \" \" + g1[i-1] + \" \" + line #current and prev3 lines are same convo. merge them\n",
    "#                                                     msgs.append(msg_now) #put in list\n",
    "#                                                     #delete last 5 lines\n",
    "#                                                     msgs.pop(pos-1)\n",
    "#                                             except: #Gets here if it's not a number, so it's a continuation still\n",
    "#                                                 \"\"\"\n",
    "#                                                 Since it's not a number/date, means it's line 12 of the prev11 lines.\n",
    "#                                                 \"\"\"\n",
    "#                                                 try: #check if five lines before it starts with a number\n",
    "#                                                     num = int(g1[i-11][:2]) #checking\n",
    "#                                                     if num: #if number then (stop)\n",
    "#                                                         msg_now = g1[i-11] + \" \" + g1[i-10] + \" \" + g1[i-9] + \" \" + g1[i-8] + \" \" + g1[i-7] + \" \" + g1[i-6] + \" \" + g1[i-5] + \" \" + g1[i-4] + \" \" + g1[i-3] + \" \" + g1[i-2]+ \" \" + g1[i-1] + \" \" + line #current and prev3 lines are same convo. merge them\n",
    "#                                                         msgs.append(msg_now) #put in list\n",
    "#                                                         #delete last 5 lines\n",
    "#                                                         msgs.pop(pos-1)\n",
    "#                                                 except: #Gets here if it's not a number, so it's a continuation still\n",
    "#                                                     \"\"\"\n",
    "#                                                     Since it's not a number/date, means it's line 13 of the prev12 lines.\n",
    "#                                                     \"\"\"\n",
    "#                                                     try: #check if five lines before it starts with a number\n",
    "#                                                         num = int(g1[i-12][:2]) #checking\n",
    "#                                                         if num: #if number then (stop)\n",
    "#                                                             msg_now = g1[i-12] + \" \" + g1[i-11] + \" \" + g1[i-10] + \" \" + g1[i-9] + \" \" + g1[i-8] + \" \" + g1[i-7] + \" \" + g1[i-6] + \" \" + g1[i-5] + \" \" + g1[i-4] + \" \" + g1[i-3] + \" \" + g1[i-2]+ \" \" + g1[i-1] + \" \" + line #current and prev3 lines are same convo. merge them\n",
    "#                                                             msgs.append(msg_now) #put in list\n",
    "#                                                             #delete last 5 lines\n",
    "#                                                             msgs.pop(pos-1)\n",
    "#                                                     except: #Gets here if it's not a number, so it's a continuation still\n",
    "#                                                         \"\"\"\n",
    "#                                                         Since it's not a number/date, means it's line 14 of the prev13 lines.\n",
    "#                                                         \"\"\"\n",
    "#                                                         try: #check if five lines before it starts with a number\n",
    "#                                                             num = int(g1[i-13][:2]) #checking\n",
    "#                                                             if num: #if number then (stop)\n",
    "#                                                                 msg_now = g1[i-13] + \" \" + g1[i-12] + \" \" + g1[i-11] + \" \" + g1[i-10] + \" \" + g1[i-9] + \" \" + g1[i-8] + \" \" + g1[i-7] + \" \" + g1[i-6] + \" \" + g1[i-5] + \" \" + g1[i-4] + \" \" + g1[i-3] + \" \" + g1[i-2]+ \" \" + g1[i-1] + \" \" + line #current and prev3 lines are same convo. merge them\n",
    "#                                                                 msgs.append(msg_now) #put in list\n",
    "#                                                                 #delete last 5 lines\n",
    "#                                                                 msgs.pop(pos-1)\n",
    "#                                                         except: #Gets here if it's not a number, so it's a continuation still\n",
    "#                                                             \"\"\"\n",
    "#                                                             Since it's not a number/date, means it's line 15 of the prev14 lines.\n",
    "#                                                             \"\"\"\n",
    "#                                                             try: #check if five lines before it starts with a number\n",
    "#                                                                 num = int(g1[i-14][:2]) #checking\n",
    "#                                                                 if num: #if number then (stop)\n",
    "#                                                                     msg_now = g1[i-14] + \" \" + g1[i-13] + \" \" + g1[i-12] + \" \" + g1[i-11] + \" \" + g1[i-10] + \" \" + g1[i-9] + \" \" + g1[i-8] + \" \" + g1[i-7] + \" \" + g1[i-6] + \" \" + g1[i-5] + \" \" + g1[i-4] + \" \" + g1[i-3] + \" \" + g1[i-2]+ \" \" + g1[i-1] + \" \" + line #current and prev3 lines are same convo. merge them\n",
    "#                                                                     msgs.append(msg_now) #put in list\n",
    "#                                                                     #delete last 5 lines\n",
    "#                                                                     msgs.pop(pos-1)    \n",
    "#                                                             except:\n",
    "#                                                                 print(\"I'm left out man!\\n{}\\n\\n\".format(len(msgs)))\n",
    "                                "
   ]
  },
  {
   "cell_type": "code",
   "execution_count": 10,
   "metadata": {},
   "outputs": [
    {
     "data": {
      "text/plain": [
       "225"
      ]
     },
     "execution_count": 10,
     "metadata": {},
     "output_type": "execute_result"
    }
   ],
   "source": [
    "#Merge messages that belong together\n",
    "msgs = [] #message container\n",
    "pos = 0 #counter for position of msgs in the container\n",
    "\"\"\"\n",
    "Flow:\n",
    "For every line, try converting the first two characters to an integer to see if it begins with a number which'd be a date.\n",
    "If it does, it is a new line of conversion as they begin with dates, add it to msgs container\n",
    "Else, it is a continuation of the previous line, add it to the previous line and append to msgs, then pop previous line.\n",
    "\"\"\"\n",
    "for i, line in enumerate(g1):\n",
    "    if re.findall(\"\\A\\d+[/]\", line):\t\n",
    "        msgs.append(line)\n",
    "        pos += 1\n",
    "    else:\n",
    "        take = msgs[pos-1] + \". \" + line\n",
    "        msgs.append(take)\n",
    "        msgs.pop(pos-1)\n",
    "\n",
    "len(msgs)"
   ]
  },
  {
   "cell_type": "code",
   "execution_count": 12,
   "metadata": {},
   "outputs": [
    {
     "name": "stdout",
     "output_type": "stream",
     "text": [
      "0 10/22/19, 1:26 PM - Messages to this group are now secured with end-to-end encryption. Tap for more info.\n",
      "1 10/22/19, 1:26 PM - You created group \"#AskPyFesh \"\n",
      "2 10/22/19, 1:28 PM - MaduDOMINIC: Ask Python Fesh\n",
      "3 10/22/19, 1:28 PM - MaduDOMINIC: Odi ok\n",
      "4 10/22/19, 1:28 PM - MaduDOMINIC: Anyi ebidogo\n",
      "5 10/22/19, 1:30 PM - You changed the group description\n",
      "6 10/22/19, 1:30 PM - Paschal Chukwuemeka Amah: Hehe.\n",
      "7 Na so.\n",
      "8 10/22/19, 1:30 PM - Paschal Chukwuemeka Amah: Trying to find the next big pythonista.\n",
      "9 So, historically na Igwe enter the group first.\n"
     ]
    }
   ],
   "source": [
    "len(g1)\n",
    "for i, line in enumerate(g1[:10]):\n",
    "    print(i, line)"
   ]
  },
  {
   "cell_type": "code",
   "execution_count": 13,
   "metadata": {},
   "outputs": [
    {
     "name": "stdout",
     "output_type": "stream",
     "text": [
      "0 10/22/19, 1:26 PM - Messages to this group are now secured with end-to-end encryption. Tap for more info.\n",
      "1 10/22/19, 1:26 PM - You created group \"#AskPyFesh \"\n",
      "2 10/22/19, 1:28 PM - MaduDOMINIC: Ask Python Fesh\n",
      "3 10/22/19, 1:28 PM - MaduDOMINIC: Odi ok\n",
      "4 10/22/19, 1:28 PM - MaduDOMINIC: Anyi ebidogo\n",
      "5 10/22/19, 1:30 PM - You changed the group description\n",
      "6 10/22/19, 1:30 PM - Paschal Chukwuemeka Amah: Hehe.. Na so.\n",
      "7 10/22/19, 1:30 PM - Paschal Chukwuemeka Amah: Trying to find the next big pythonista.. So, historically na Igwe enter the group first.\n",
      "8 10/22/19, 1:31 PM - Paschal Chukwuemeka Amah: I'll delete all this sha just before I start sharing links and having people join.\n",
      "9 10/22/19, 1:34 PM - You changed this group's icon\n"
     ]
    }
   ],
   "source": [
    "len(msgs)\n",
    "for i, line in enumerate(msgs[:10]):\n",
    "    print(i, line)"
   ]
  },
  {
   "cell_type": "code",
   "execution_count": 1,
   "metadata": {},
   "outputs": [
    {
     "ename": "NameError",
     "evalue": "name 'msgs' is not defined",
     "output_type": "error",
     "traceback": [
      "\u001b[1;31m---------------------------------------------------------------------------\u001b[0m",
      "\u001b[1;31mNameError\u001b[0m                                 Traceback (most recent call last)",
      "\u001b[1;32m<ipython-input-1-6948434a30ef>\u001b[0m in \u001b[0;36m<module>\u001b[1;34m\u001b[0m\n\u001b[1;32m----> 1\u001b[1;33m \u001b[0mintro_lines\u001b[0m \u001b[1;33m=\u001b[0m \u001b[1;33m[\u001b[0m\u001b[0mline\u001b[0m\u001b[1;33m.\u001b[0m\u001b[0mlower\u001b[0m\u001b[1;33m(\u001b[0m\u001b[1;33m)\u001b[0m \u001b[1;32mfor\u001b[0m \u001b[0mline\u001b[0m \u001b[1;32min\u001b[0m \u001b[0mmsgs\u001b[0m \u001b[1;32mif\u001b[0m \u001b[1;34m\"Intro\"\u001b[0m \u001b[1;32min\u001b[0m \u001b[0mline\u001b[0m\u001b[1;33m]\u001b[0m\u001b[1;33m\u001b[0m\u001b[1;33m\u001b[0m\u001b[0m\n\u001b[0m",
      "\u001b[1;31mNameError\u001b[0m: name 'msgs' is not defined"
     ]
    }
   ],
   "source": [
    "intro_lines = [line.lower() for line in msgs if \"Intro\" in line]"
   ]
  },
  {
   "cell_type": "code",
   "execution_count": null,
   "metadata": {},
   "outputs": [],
   "source": [
    "len(intro_lines)"
   ]
  },
  {
   "cell_type": "code",
   "execution_count": null,
   "metadata": {},
   "outputs": [],
   "source": [
    "intro_lines"
   ]
  },
  {
   "cell_type": "code",
   "execution_count": 2,
   "metadata": {},
   "outputs": [
    {
     "ename": "NameError",
     "evalue": "name 'pd' is not defined",
     "output_type": "error",
     "traceback": [
      "\u001b[1;31m---------------------------------------------------------------------------\u001b[0m",
      "\u001b[1;31mNameError\u001b[0m                                 Traceback (most recent call last)",
      "\u001b[1;32m<ipython-input-2-ddbd0051538d>\u001b[0m in \u001b[0;36m<module>\u001b[1;34m\u001b[0m\n\u001b[1;32m----> 1\u001b[1;33m \u001b[0mdf\u001b[0m \u001b[1;33m=\u001b[0m \u001b[0mpd\u001b[0m\u001b[1;33m.\u001b[0m\u001b[0mDataFrame\u001b[0m\u001b[1;33m(\u001b[0m\u001b[1;33m)\u001b[0m\u001b[1;33m\u001b[0m\u001b[1;33m\u001b[0m\u001b[0m\n\u001b[0m\u001b[0;32m      2\u001b[0m \u001b[0mdf\u001b[0m\u001b[1;33m[\u001b[0m\u001b[1;34m\"messages\"\u001b[0m\u001b[1;33m]\u001b[0m \u001b[1;33m=\u001b[0m \u001b[0mintro_lines\u001b[0m\u001b[1;33m\u001b[0m\u001b[1;33m\u001b[0m\u001b[0m\n",
      "\u001b[1;31mNameError\u001b[0m: name 'pd' is not defined"
     ]
    }
   ],
   "source": [
    "df = pd.DataFrame()\n",
    "df[\"messages\"] = intro_lines"
   ]
  },
  {
   "cell_type": "code",
   "execution_count": 3,
   "metadata": {},
   "outputs": [
    {
     "ename": "NameError",
     "evalue": "name 'df' is not defined",
     "output_type": "error",
     "traceback": [
      "\u001b[1;31m---------------------------------------------------------------------------\u001b[0m",
      "\u001b[1;31mNameError\u001b[0m                                 Traceback (most recent call last)",
      "\u001b[1;32m<ipython-input-3-6297b5279bb9>\u001b[0m in \u001b[0;36m<module>\u001b[1;34m\u001b[0m\n\u001b[1;32m----> 1\u001b[1;33m \u001b[0mdf\u001b[0m\u001b[1;33m.\u001b[0m\u001b[0mto_csv\u001b[0m\u001b[1;33m(\u001b[0m\u001b[1;34m\"cleaned_intro.csv\"\u001b[0m\u001b[1;33m)\u001b[0m\u001b[1;33m\u001b[0m\u001b[1;33m\u001b[0m\u001b[0m\n\u001b[0m",
      "\u001b[1;31mNameError\u001b[0m: name 'df' is not defined"
     ]
    }
   ],
   "source": [
    "df.to_csv(\"cleaned_intro.csv\")"
   ]
  },
  {
   "cell_type": "code",
   "execution_count": null,
   "metadata": {},
   "outputs": [],
   "source": []
  },
  {
   "cell_type": "code",
   "execution_count": null,
   "metadata": {},
   "outputs": [],
   "source": []
  },
  {
   "cell_type": "code",
   "execution_count": null,
   "metadata": {},
   "outputs": [],
   "source": []
  },
  {
   "cell_type": "code",
   "execution_count": null,
   "metadata": {},
   "outputs": [],
   "source": []
  },
  {
   "cell_type": "code",
   "execution_count": null,
   "metadata": {},
   "outputs": [],
   "source": []
  }
 ],
 "metadata": {
  "kernelspec": {
   "display_name": "Python 3",
   "language": "python",
   "name": "python3"
  }
 },
 "nbformat": 4,
 "nbformat_minor": 2
}
