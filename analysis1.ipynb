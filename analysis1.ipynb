{
 "cells": [
  {
   "cell_type": "code",
   "execution_count": 6,
   "metadata": {},
   "outputs": [],
   "source": [
    "import pandas as pd\n",
    "import re\n",
    "import matplotlib.pyplot as plt"
   ]
  },
  {
   "cell_type": "code",
   "execution_count": 7,
   "metadata": {},
   "outputs": [
    {
     "name": "stdout",
     "output_type": "stream",
     "text": [
      "2919\n"
     ]
    }
   ],
   "source": [
    "#Red txt data file \n",
    "with open(\"WhatsApp Chat with #AskPyFesh_2.txt\", \"r\", encoding = \"utf-8\") as file:\n",
    "    chats = file.readlines()\n",
    "print(len(chats))"
   ]
  },
  {
   "cell_type": "code",
   "execution_count": 8,
   "metadata": {},
   "outputs": [
    {
     "name": "stdout",
     "output_type": "stream",
     "text": [
      "2919\n",
      "2313\n"
     ]
    }
   ],
   "source": [
    "#Remove new lines\n",
    "chats = [line.strip() for line in chats]\n",
    "chats[:10]\n",
    "print(len(chats))\n",
    "\n",
    "#Clean out the join notification lines\n",
    "apfesh = [line for line in chats if not \"joined using this\" in line]\n",
    "\n",
    "#Further cleaning\n",
    "#Remove empty lines\n",
    "apfesh = [line for line in apfesh if len(line) > 1]\n",
    "print(len(apfesh))"
   ]
  },
  {
   "cell_type": "code",
   "execution_count": 9,
   "metadata": {},
   "outputs": [
    {
     "name": "stdout",
     "output_type": "stream",
     "text": [
      "2308\n"
     ]
    }
   ],
   "source": [
    "#Remove more auto lines\n",
    "apfesh = [line for line in apfesh if not \"You changed\" in line]\n",
    "print(len(apfesh))"
   ]
  },
  {
   "cell_type": "code",
   "execution_count": 10,
   "metadata": {},
   "outputs": [
    {
     "name": "stdout",
     "output_type": "stream",
     "text": [
      "2305\n"
     ]
    }
   ],
   "source": [
    "#Remove even more auto lines\n",
    "apfesh = [line for line in apfesh if not \"You revoked\" in line]\n",
    "print(len(apfesh))"
   ]
  },
  {
   "cell_type": "code",
   "execution_count": 11,
   "metadata": {},
   "outputs": [
    {
     "data": {
      "text/plain": [
       "['10/23/19, 8:42 AM - +263 77 221 3302 left',\n",
       " '11/2/19, 3:52 PM - +234 703 553 4253 left',\n",
       " '11/4/19, 9:48 AM - +44 7436 909012 left',\n",
       " '11/13/19, 8:25 AM - +234 706 130 1525 left',\n",
       " '11/27/19, 8:53 PM - +234 703 059 4261 left',\n",
       " '11/30/19, 10:14 PM - +234 903 915 7667 left']"
      ]
     },
     "execution_count": 11,
     "metadata": {},
     "output_type": "execute_result"
    }
   ],
   "source": [
    "#Drop 'left-ers'\n",
    "left = [line for line in apfesh if line.endswith(\"left\")]\n",
    "left"
   ]
  },
  {
   "cell_type": "code",
   "execution_count": 12,
   "metadata": {},
   "outputs": [
    {
     "name": "stdout",
     "output_type": "stream",
     "text": [
      "2299\n"
     ]
    }
   ],
   "source": [
    "#Remove all that 'left'\n",
    "apfesh = [line for line in apfesh if not line.endswith(\"left\")]\n",
    "print(len(apfesh))"
   ]
  },
  {
   "cell_type": "code",
   "execution_count": 13,
   "metadata": {},
   "outputs": [
    {
     "data": {
      "text/plain": [
       "1297"
      ]
     },
     "execution_count": 13,
     "metadata": {},
     "output_type": "execute_result"
    }
   ],
   "source": [
    "#Merge messages that belong together\n",
    "msgs = [] #message container\n",
    "pos = 0 #counter for position of msgs in the container\n",
    "\"\"\"\n",
    "Flow:\n",
    "For every line, see if it matches the expression which is starting with the format \"number(s)+slash\" eg \"12/\"\n",
    "If it does, it is a new line of conversion as they begin with dates, add it to msgs container\n",
    "Else, it is a continuation of the previous line, add it to the previous line and append to msgs, then pop previous line.\n",
    "\"\"\"\n",
    "for line in apfesh:\n",
    "    if re.findall(\"\\A\\d+[/]\", line):\n",
    "        msgs.append(line)\n",
    "        pos += 1\n",
    "    else:\n",
    "        take = msgs[pos-1] + \". \" + line\n",
    "        msgs.append(take)\n",
    "        msgs.pop(pos-1)\n",
    "\n",
    "len(msgs)"
   ]
  },
  {
   "cell_type": "code",
   "execution_count": 15,
   "metadata": {},
   "outputs": [
    {
     "data": {
      "text/plain": [
       "['10/22/19, 1:30 PM - Paschal Chukwuemeka Amah: Hehe.. Na so.',\n",
       " '10/22/19, 1:30 PM - Paschal Chukwuemeka Amah: Trying to find the next big pythonista.. So, historically na Igwe enter the group first.',\n",
       " \"10/22/19, 1:31 PM - Paschal Chukwuemeka Amah: I'll delete all this sha just before I start sharing links and having people join.\",\n",
       " '10/22/19, 8:33 PM - Chigozie Njoku D-GASM: #AskFeshIntro. Name: Chigozie Njoku. City of residence: Lagos']"
      ]
     },
     "execution_count": 15,
     "metadata": {},
     "output_type": "execute_result"
    }
   ],
   "source": [
    "msgs[5:9]"
   ]
  },
  {
   "cell_type": "code",
   "execution_count": 16,
   "metadata": {},
   "outputs": [
    {
     "data": {
      "text/plain": [
       "1295"
      ]
     },
     "execution_count": 16,
     "metadata": {},
     "output_type": "execute_result"
    }
   ],
   "source": [
    "#Drop first two lines: auto msg\n",
    "msgs = msgs[2:]\n",
    "len(msgs)"
   ]
  },
  {
   "cell_type": "code",
   "execution_count": 17,
   "metadata": {},
   "outputs": [
    {
     "data": {
      "text/plain": [
       "['10/23/19, 1:03 PM - +234 706 527 3604: My name is Tolu Oladipo. I reside in Lagos state #AskFreshIntro',\n",
       " '10/23/19, 4:00 PM - Ojei Toritsemoshe D-GASM: #AskFeshIntro. Ojei Tooritse. Lagos',\n",
       " '10/23/19, 7:05 PM - Paschal Chukwuemeka Amah: _3/3 Repeat message_. Warm welcome to *#AskPyFesh*! 😁. In an hour we shall revoke the join link and open the floor.. If you have not, and would want to be enumerated, drop your first message with the tag _*#AskPyFeshIntro*_ with your preferred name and location.. *Upcoming Event*. _*Time*_: 22:15hrs GMT* (10:15pm Lagos Time). _*Agenda*_: Guidance on getting your computer ready to write the language.. _*Recommended Tools*_: Your laptop or desktop and a working Internet connection.. Again, warm welcome.. - == _This is Fesh_ 🙇. !=_Fresh_ 😀',\n",
       " '10/23/19, 7:07 PM - Obiora Michael D-GASM: Mike, Surulere Lagos #AskPyFeshIntro',\n",
       " '10/23/19, 7:08 PM - +234 805 052 8131: What if my laptop can not connect to WiFi, what do I do?']"
      ]
     },
     "execution_count": 17,
     "metadata": {},
     "output_type": "execute_result"
    }
   ],
   "source": [
    "#peep message format so far\n",
    "msgs[50:55]"
   ]
  },
  {
   "cell_type": "code",
   "execution_count": 19,
   "metadata": {},
   "outputs": [
    {
     "name": "stdout",
     "output_type": "stream",
     "text": [
      "1295 1295 1295 1295\n"
     ]
    }
   ],
   "source": [
    "\n",
    "#make arrays of different parts of the messages\n",
    "date = []\n",
    "time = []\n",
    "number = []\n",
    "msg = []\n",
    "counter = 0\n",
    "for line in msgs:\n",
    "    x = line.split()\n",
    "    #Get the date\n",
    "    dating = x[0]\n",
    "    date.append(dating.replace(',',''))\n",
    "    \n",
    "    #Get the time\n",
    "    timing = x[1] + \" \" +x[2]\n",
    "    time.append(timing)\n",
    "    \n",
    "    #Get number\n",
    "    num = \" \".join(x[3:9]) #the parts numbers/names fall in\n",
    "    try:\n",
    "        match = re.search(r\"- ([^']*):\", num).group(1) #match between '- ' and ':' where they are per se\n",
    "        number.append(match)\n",
    "    except:\n",
    "        number.append(\"-\")\n",
    "        pass\n",
    "    #Get message\n",
    "    #num = \" \".join(x[3:8]) #num/name position\n",
    "    #match = re.search(r\"- ([^']*):\", num).group(1) #isolate the num/name per se\n",
    "    part = line.partition(match)[2] #partition according to the match and extract the last part, the msg\n",
    "    msging = part[2:] #strip off the first two characters as they are \": \"\n",
    "    msg.append(msging)\n",
    "    \n",
    "#     counter += 1\n",
    "#     print(counter)\n",
    "\n",
    "print(len(date), len(time), len(number), len(msg))"
   ]
  },
  {
   "cell_type": "code",
   "execution_count": 20,
   "metadata": {},
   "outputs": [
    {
     "data": {
      "text/plain": [
       "['MaduDOMINIC', 'MaduDOMINIC', 'MaduDOMINIC', 'Fesh', 'Fesh']"
      ]
     },
     "execution_count": 20,
     "metadata": {},
     "output_type": "execute_result"
    }
   ],
   "source": [
    "number = [line.replace('Paschal Chukwuemeka Amah', 'Fesh') for line in number]\n",
    "number[:5]"
   ]
  },
  {
   "cell_type": "code",
   "execution_count": 21,
   "metadata": {},
   "outputs": [
    {
     "data": {
      "text/html": [
       "<div>\n",
       "<style scoped>\n",
       "    .dataframe tbody tr th:only-of-type {\n",
       "        vertical-align: middle;\n",
       "    }\n",
       "\n",
       "    .dataframe tbody tr th {\n",
       "        vertical-align: top;\n",
       "    }\n",
       "\n",
       "    .dataframe thead th {\n",
       "        text-align: right;\n",
       "    }\n",
       "</style>\n",
       "<table border=\"1\" class=\"dataframe\">\n",
       "  <thead>\n",
       "    <tr style=\"text-align: right;\">\n",
       "      <th></th>\n",
       "      <th>date</th>\n",
       "      <th>time</th>\n",
       "      <th>number</th>\n",
       "      <th>msg</th>\n",
       "    </tr>\n",
       "  </thead>\n",
       "  <tbody>\n",
       "    <tr>\n",
       "      <td>0</td>\n",
       "      <td>10/22/19</td>\n",
       "      <td>1:28 PM</td>\n",
       "      <td>MaduDOMINIC</td>\n",
       "      <td>Ask Python Fesh</td>\n",
       "    </tr>\n",
       "    <tr>\n",
       "      <td>1</td>\n",
       "      <td>10/22/19</td>\n",
       "      <td>1:28 PM</td>\n",
       "      <td>MaduDOMINIC</td>\n",
       "      <td>Odi ok</td>\n",
       "    </tr>\n",
       "    <tr>\n",
       "      <td>2</td>\n",
       "      <td>10/22/19</td>\n",
       "      <td>1:28 PM</td>\n",
       "      <td>MaduDOMINIC</td>\n",
       "      <td>Anyi ebidogo</td>\n",
       "    </tr>\n",
       "    <tr>\n",
       "      <td>3</td>\n",
       "      <td>10/22/19</td>\n",
       "      <td>1:30 PM</td>\n",
       "      <td>Fesh</td>\n",
       "      <td>Hehe.. Na so.</td>\n",
       "    </tr>\n",
       "    <tr>\n",
       "      <td>4</td>\n",
       "      <td>10/22/19</td>\n",
       "      <td>1:30 PM</td>\n",
       "      <td>Fesh</td>\n",
       "      <td>Trying to find the next big pythonista.. So, h...</td>\n",
       "    </tr>\n",
       "  </tbody>\n",
       "</table>\n",
       "</div>"
      ],
      "text/plain": [
       "       date     time       number  \\\n",
       "0  10/22/19  1:28 PM  MaduDOMINIC   \n",
       "1  10/22/19  1:28 PM  MaduDOMINIC   \n",
       "2  10/22/19  1:28 PM  MaduDOMINIC   \n",
       "3  10/22/19  1:30 PM         Fesh   \n",
       "4  10/22/19  1:30 PM         Fesh   \n",
       "\n",
       "                                                 msg  \n",
       "0                                    Ask Python Fesh  \n",
       "1                                             Odi ok  \n",
       "2                                       Anyi ebidogo  \n",
       "3                                      Hehe.. Na so.  \n",
       "4  Trying to find the next big pythonista.. So, h...  "
      ]
     },
     "execution_count": 21,
     "metadata": {},
     "output_type": "execute_result"
    }
   ],
   "source": [
    "#Put in a dataframe\n",
    "apfesh_df = pd.DataFrame()\n",
    "apfesh_df[\"date\"] = date\n",
    "apfesh_df[\"time\"] = time\n",
    "apfesh_df[\"number\"] = number\n",
    "apfesh_df[\"msg\"] = msg\n",
    "\n",
    "apfesh_df.head()"
   ]
  },
  {
   "cell_type": "code",
   "execution_count": 22,
   "metadata": {},
   "outputs": [
    {
     "name": "stdout",
     "output_type": "stream",
     "text": [
      "Fesh                 481\n",
      "+234 803 604 4312     88\n",
      "+234 812 053 1560     70\n",
      "+234 806 235 5136     46\n",
      "+234 903 182 7815     46\n",
      "Name: number, dtype: int64\n"
     ]
    },
    {
     "data": {
      "text/plain": [
       "<matplotlib.axes._subplots.AxesSubplot at 0x1e8829140c8>"
      ]
     },
     "execution_count": 22,
     "metadata": {},
     "output_type": "execute_result"
    },
    {
     "data": {
      "image/png": "[encoded data removed]",
      "text/plain": [
       "<Figure size 432x288 with 1 Axes>"
      ]
     },
     "metadata": {
      "needs_background": "light"
     },
     "output_type": "display_data"
    }
   ],
   "source": [
    "top5messengers = apfesh_df.number.value_counts(ascending=False).head()\n",
    "print(top5messengers)\n",
    "top5messengers.plot(kind=\"bar\")"
   ]
  },
  {
   "cell_type": "code",
   "execution_count": 23,
   "metadata": {},
   "outputs": [
    {
     "name": "stdout",
     "output_type": "stream",
     "text": [
      "Fesh                 481\n",
      "+234 803 604 4312     88\n",
      "+234 812 053 1560     70\n",
      "+234 806 235 5136     46\n",
      "+234 903 182 7815     46\n",
      "Name: number, dtype: int64\n"
     ]
    },
    {
     "data": {
      "image/png": "[encoded data removed]",
      "text/plain": [
       "<Figure size 432x288 with 1 Axes>"
      ]
     },
     "metadata": {
      "needs_background": "light"
     },
     "output_type": "display_data"
    }
   ],
   "source": [
    "print(top5messengers)\n",
    "fig, ax2 = plt.subplots()\n",
    "top5messengers.plot(kind='bar',ax=ax2, fontsize=10, sort_columns=True)\n",
    "ax2.grid(axis='y')\n",
    "plt.show()"
   ]
  },
  {
   "cell_type": "code",
   "execution_count": null,
   "metadata": {},
   "outputs": [],
   "source": []
  }
 ],
 "metadata": {
  "kernelspec": {
   "display_name": "Python 3",
   "language": "python",
   "name": "python3"
  },
  "language_info": {
   "codemirror_mode": {
    "name": "ipython",
    "version": 3
   },
   "file_extension": ".py",
   "mimetype": "text/x-python",
   "name": "python",
   "nbconvert_exporter": "python",
   "pygments_lexer": "ipython3",
   "version": "3.7.4"
  }
 },
 "nbformat": 4,
 "nbformat_minor": 2
}
