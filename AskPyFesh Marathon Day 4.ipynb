{
 "cells": [
  {
   "cell_type": "code",
   "execution_count": 1,
   "metadata": {},
   "outputs": [],
   "source": [
    "import os"
   ]
  },
  {
   "cell_type": "code",
   "execution_count": 2,
   "metadata": {},
   "outputs": [
    {
     "data": {
      "text/plain": [
       "'C:\\\\Users\\\\USER\\\\Desktop\\\\AskPyFesh'"
      ]
     },
     "execution_count": 2,
     "metadata": {},
     "output_type": "execute_result"
    }
   ],
   "source": [
    "os.getcwd()"
   ]
  },
  {
   "cell_type": "code",
   "execution_count": 3,
   "metadata": {},
   "outputs": [
    {
     "data": {
      "text/plain": [
       "['.git',\n",
       " '.gitignore',\n",
       " '.ipynb_checkpoints',\n",
       " 'analysis-Copy1.ipynb',\n",
       " 'analysis.ipynb',\n",
       " 'analysis1.ipynb',\n",
       " 'AskPyFesh Marathon Day 1.ipynb',\n",
       " 'AskPyFesh Marathon Day 2.ipynb',\n",
       " 'AskPyFesh Marathon Day 3.ipynb',\n",
       " 'AskPyFesh Marathon Day 4.ipynb',\n",
       " 'askpyfesh.txt',\n",
       " 'chat.txt',\n",
       " 'cleaned_intro.csv',\n",
       " 'records.txt',\n",
       " 'test.txt',\n",
       " 'video',\n",
       " 'WhatsApp Chat with #AskPyFesh.txt',\n",
       " 'WhatsApp Chat with #AskPyFesh_2.txt']"
      ]
     },
     "execution_count": 3,
     "metadata": {},
     "output_type": "execute_result"
    }
   ],
   "source": [
    "os.listdir()"
   ]
  },
  {
   "cell_type": "code",
   "execution_count": 4,
   "metadata": {},
   "outputs": [],
   "source": [
    "#Reading a file in python\n",
    "#Two steps: 1. open the file 2. Read the file"
   ]
  },
  {
   "cell_type": "code",
   "execution_count": 5,
   "metadata": {},
   "outputs": [],
   "source": [
    "#open(filename, mode)\n",
    "with open(\"records.txt\", \"r\") as file:\n",
    "    reader = file.read()"
   ]
  },
  {
   "cell_type": "code",
   "execution_count": 6,
   "metadata": {},
   "outputs": [
    {
     "data": {
      "text/plain": [
       "str"
      ]
     },
     "execution_count": 6,
     "metadata": {},
     "output_type": "execute_result"
    }
   ],
   "source": [
    "type(reader)"
   ]
  },
  {
   "cell_type": "code",
   "execution_count": 7,
   "metadata": {},
   "outputs": [
    {
     "name": "stdout",
     "output_type": "stream",
     "text": [
      "Paschal Lagos\n"
     ]
    }
   ],
   "source": [
    "print(reader)"
   ]
  },
  {
   "cell_type": "code",
   "execution_count": 8,
   "metadata": {},
   "outputs": [
    {
     "name": "stdout",
     "output_type": "stream",
     "text": [
      "askpyfesh.txt\n",
      "chat.txt\n",
      "records.txt\n",
      "test.txt\n",
      "WhatsApp Chat with #AskPyFesh.txt\n",
      "WhatsApp Chat with #AskPyFesh_2.txt\n"
     ]
    }
   ],
   "source": [
    "textFiles = []\n",
    "for file in os.listdir():\n",
    "    if file.endswith('.txt'):\n",
    "        print(file)\n",
    "        textFiles.append(file)"
   ]
  },
  {
   "cell_type": "code",
   "execution_count": 9,
   "metadata": {},
   "outputs": [
    {
     "name": "stdout",
     "output_type": "stream",
     "text": [
      "['askpyfesh.txt', 'chat.txt', 'records.txt', 'test.txt', 'WhatsApp Chat with #AskPyFesh.txt', 'WhatsApp Chat with #AskPyFesh_2.txt']\n"
     ]
    }
   ],
   "source": [
    "print(textFiles)"
   ]
  },
  {
   "cell_type": "code",
   "execution_count": 10,
   "metadata": {},
   "outputs": [
    {
     "name": "stdout",
     "output_type": "stream",
     "text": [
      "askpyfesh.txt\n",
      "chat.txt\n",
      "records.txt\n",
      "test.txt\n",
      "WhatsApp Chat with #AskPyFesh.txt\n",
      "WhatsApp Chat with #AskPyFesh_2.txt\n"
     ]
    }
   ],
   "source": [
    " for file in textFiles:\n",
    "        print(file)"
   ]
  },
  {
   "cell_type": "code",
   "execution_count": 11,
   "metadata": {},
   "outputs": [
    {
     "data": {
      "text/plain": [
       "['askpyfesh.txt',\n",
       " 'chat.txt',\n",
       " 'records.txt',\n",
       " 'test.txt',\n",
       " 'WhatsApp Chat with #AskPyFesh.txt',\n",
       " 'WhatsApp Chat with #AskPyFesh_2.txt']"
      ]
     },
     "execution_count": 11,
     "metadata": {},
     "output_type": "execute_result"
    }
   ],
   "source": [
    "[file for file in textFiles]"
   ]
  },
  {
   "cell_type": "code",
   "execution_count": 12,
   "metadata": {},
   "outputs": [],
   "source": [
    "#Python Dictionaries\n",
    "#a collection of key and value\n",
    "#dictionaries are wrapped in curly brackets {}\n",
    "aDict = {\"name\": \"Paschal\", \"city\":\"Enugu\", \"age\": 30}"
   ]
  },
  {
   "cell_type": "code",
   "execution_count": 13,
   "metadata": {},
   "outputs": [
    {
     "data": {
      "text/plain": [
       "dict"
      ]
     },
     "execution_count": 13,
     "metadata": {},
     "output_type": "execute_result"
    }
   ],
   "source": [
    "type(aDict)"
   ]
  },
  {
   "cell_type": "code",
   "execution_count": 14,
   "metadata": {},
   "outputs": [
    {
     "data": {
      "text/plain": [
       "dict_keys(['name', 'city', 'age'])"
      ]
     },
     "execution_count": 14,
     "metadata": {},
     "output_type": "execute_result"
    }
   ],
   "source": [
    "aDict.keys()"
   ]
  },
  {
   "cell_type": "code",
   "execution_count": 15,
   "metadata": {},
   "outputs": [
    {
     "data": {
      "text/plain": [
       "dict_values(['Paschal', 'Enugu', 30])"
      ]
     },
     "execution_count": 15,
     "metadata": {},
     "output_type": "execute_result"
    }
   ],
   "source": [
    "aDict.values()"
   ]
  },
  {
   "cell_type": "code",
   "execution_count": 16,
   "metadata": {},
   "outputs": [],
   "source": [
    "#Add valu pairs to a dictionary\n",
    "aDict[\"langauge\"] = \"python\""
   ]
  },
  {
   "cell_type": "code",
   "execution_count": 17,
   "metadata": {},
   "outputs": [
    {
     "data": {
      "text/plain": [
       "{'name': 'Paschal', 'city': 'Enugu', 'age': 30, 'langauge': 'python'}"
      ]
     },
     "execution_count": 17,
     "metadata": {},
     "output_type": "execute_result"
    }
   ],
   "source": [
    "aDict"
   ]
  },
  {
   "cell_type": "code",
   "execution_count": 19,
   "metadata": {},
   "outputs": [
    {
     "name": "stdout",
     "output_type": "stream",
     "text": [
      "Warm welcome to our short script.\n",
      "Please type your name: Buhari\n",
      "Enter your city: Aso Rock\n",
      "How old are you: 77\n",
      "What language do you know: Java\n"
     ]
    }
   ],
   "source": [
    "members = {}\n",
    "print(\"Warm welcome to our short script.\")\n",
    "name = input(\"Please type your name: \")\n",
    "city = input(\"Enter your city: \")\n",
    "age = input(\"How old are you: \")\n",
    "language = input(\"What language do you know: \")\n",
    "\n",
    "members[\"name\"] = name\n",
    "members[\"city\"] = city\n",
    "members[\"age\"] = int(age)\n",
    "members[\"language\"] = language\n"
   ]
  },
  {
   "cell_type": "code",
   "execution_count": 20,
   "metadata": {},
   "outputs": [
    {
     "data": {
      "text/plain": [
       "dict"
      ]
     },
     "execution_count": 20,
     "metadata": {},
     "output_type": "execute_result"
    }
   ],
   "source": [
    "type(members)"
   ]
  },
  {
   "cell_type": "code",
   "execution_count": 22,
   "metadata": {},
   "outputs": [
    {
     "name": "stdout",
     "output_type": "stream",
     "text": [
      "{'name': 'Buhari', 'city': 'Aso Rock', 'age': 77, 'language': 'Java'}\n"
     ]
    }
   ],
   "source": [
    "print(members)"
   ]
  },
  {
   "cell_type": "code",
   "execution_count": 23,
   "metadata": {},
   "outputs": [
    {
     "name": "stdout",
     "output_type": "stream",
     "text": [
      "['.git', '.gitignore', '.ipynb_checkpoints', 'analysis-Copy1.ipynb', 'analysis.ipynb', 'analysis1.ipynb', 'AskPyFesh Marathon Day 1.ipynb', 'AskPyFesh Marathon Day 2.ipynb', 'AskPyFesh Marathon Day 3.ipynb', 'AskPyFesh Marathon Day 4.ipynb', 'askpyfesh.txt', 'chat.txt', 'cleaned_intro.csv', 'records.txt', 'test.txt', 'video', 'WhatsApp Chat with #AskPyFesh.txt', 'WhatsApp Chat with #AskPyFesh_2.txt']\n"
     ]
    }
   ],
   "source": [
    "#args and kwargs\n",
    "def test(x):\n",
    "    print([line for line in x])\n",
    "    \n",
    "test(os.listdir())"
   ]
  },
  {
   "cell_type": "code",
   "execution_count": null,
   "metadata": {},
   "outputs": [],
   "source": [
    "def test(*args):\n",
    "    print(arg for )"
   ]
  }
 ],
 "metadata": {
  "kernelspec": {
   "display_name": "Python 3",
   "language": "python",
   "name": "python3"
  },
  "language_info": {
   "codemirror_mode": {
    "name": "ipython",
    "version": 3
   },
   "file_extension": ".py",
   "mimetype": "text/x-python",
   "name": "python",
   "nbconvert_exporter": "python",
   "pygments_lexer": "ipython3",
   "version": "3.7.4"
  }
 },
 "nbformat": 4,
 "nbformat_minor": 2
}
