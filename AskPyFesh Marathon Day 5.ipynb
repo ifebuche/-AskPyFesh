{
 "cells": [
  {
   "cell_type": "code",
   "execution_count": 1,
   "metadata": {},
   "outputs": [],
   "source": [
    "dict1 = {\"paschal\":123456, \"stanley\": 19235, \"olumide\":34567}"
   ]
  },
  {
   "cell_type": "code",
   "execution_count": 9,
   "metadata": {},
   "outputs": [
    {
     "data": {
      "text/plain": [
       "{'paschal': 123456, 'stanley': 19235, 'olumide': 34567, 'buhari': 4567}"
      ]
     },
     "execution_count": 9,
     "metadata": {},
     "output_type": "execute_result"
    }
   ],
   "source": [
    "dict1"
   ]
  },
  {
   "cell_type": "code",
   "execution_count": 2,
   "metadata": {},
   "outputs": [
    {
     "data": {
      "text/plain": [
       "dict"
      ]
     },
     "execution_count": 2,
     "metadata": {},
     "output_type": "execute_result"
    }
   ],
   "source": [
    "type(dict1)"
   ]
  },
  {
   "cell_type": "code",
   "execution_count": 3,
   "metadata": {},
   "outputs": [
    {
     "data": {
      "text/plain": [
       "dict_keys(['paschal', 'stanley', 'olumide'])"
      ]
     },
     "execution_count": 3,
     "metadata": {},
     "output_type": "execute_result"
    }
   ],
   "source": [
    "dict1.keys()"
   ]
  },
  {
   "cell_type": "code",
   "execution_count": 4,
   "metadata": {},
   "outputs": [
    {
     "data": {
      "text/plain": [
       "dict_values([123456, 19235, 34567])"
      ]
     },
     "execution_count": 4,
     "metadata": {},
     "output_type": "execute_result"
    }
   ],
   "source": [
    "dict1.values()"
   ]
  },
  {
   "cell_type": "code",
   "execution_count": 5,
   "metadata": {},
   "outputs": [
    {
     "data": {
      "text/plain": [
       "19235"
      ]
     },
     "execution_count": 5,
     "metadata": {},
     "output_type": "execute_result"
    }
   ],
   "source": [
    "dict1[\"stanley\"]"
   ]
  },
  {
   "cell_type": "code",
   "execution_count": null,
   "metadata": {},
   "outputs": [],
   "source": [
    "side != side"
   ]
  },
  {
   "cell_type": "code",
   "execution_count": 10,
   "metadata": {},
   "outputs": [
    {
     "name": "stdout",
     "output_type": "stream",
     "text": [
      "Hello and welcome.\n",
      "What is your username: Buhari\n",
      "Welcome buhari! We will need your password\n",
      "Please put your PIN: 45678\n",
      "Invalid password. Please try again.\n",
      "Please put your PIN: 4567\n",
      "Welcome home buhari\n"
     ]
    }
   ],
   "source": [
    "print(\"Hello and welcome.\")\n",
    "username = input(\"What is your username: \")\n",
    "username = username.lower()\n",
    "if username in dict1.keys():\n",
    "    print(\"Welcome {}! We will need your password\".format(username))\n",
    "    password = input(\"Please put your PIN: \")\n",
    "    password = int(password)\n",
    "    while dict1[username] != password:\n",
    "        print(\"Invalid password. Please try again.\")\n",
    "        password = input(\"Please put your PIN: \")\n",
    "        password = int(password)\n",
    "    else:\n",
    "        print(\"Welcome home {}\".format(username))\n",
    "else:\n",
    "    print(\"You are not on the list. Do you want to register?\")\n",
    "    answer = input(\"Y / N\")\n",
    "    if answer.lower() == \"y\":\n",
    "        password = input(\"Choose a PIN (Numbers only): \")\n",
    "        try:\n",
    "            password = int(password)\n",
    "        except:\n",
    "            print(\"That was not a number.\")\n",
    "        dict1[username] = password\n",
    "        print(\"{} you have been register. Your password is {}\".format(username, password))\n",
    "    elif answer.lower() == \"n\":\n",
    "        print(\"We take that as a No. Have a great day.\")\n",
    "    else:\n",
    "        print(\"That was neither a yes or no. Have a great day.\")\n"
   ]
  },
  {
   "cell_type": "code",
   "execution_count": 11,
   "metadata": {},
   "outputs": [
    {
     "name": "stdout",
     "output_type": "stream",
     "text": [
      "Please choose a username: Ifeanyi\n",
      "Please choose a password (Numbers Only): 12345\n"
     ]
    },
    {
     "ename": "TypeError",
     "evalue": "can only concatenate str (not \"int\") to str",
     "output_type": "error",
     "traceback": [
      "\u001b[1;31m---------------------------------------------------------------------------\u001b[0m",
      "\u001b[1;31mTypeError\u001b[0m                                 Traceback (most recent call last)",
      "\u001b[1;32m<ipython-input-11-fc4a5259183c>\u001b[0m in \u001b[0;36m<module>\u001b[1;34m\u001b[0m\n\u001b[0;32m      4\u001b[0m \u001b[1;33m\u001b[0m\u001b[0m\n\u001b[0;32m      5\u001b[0m \u001b[1;32mwith\u001b[0m \u001b[0mopen\u001b[0m\u001b[1;33m(\u001b[0m\u001b[1;34m\"register.csv\"\u001b[0m\u001b[1;33m,\u001b[0m \u001b[1;34m\"a\"\u001b[0m\u001b[1;33m)\u001b[0m \u001b[1;32mas\u001b[0m \u001b[0mfile\u001b[0m\u001b[1;33m:\u001b[0m\u001b[1;33m\u001b[0m\u001b[1;33m\u001b[0m\u001b[0m\n\u001b[1;32m----> 6\u001b[1;33m     \u001b[0mfile\u001b[0m\u001b[1;33m.\u001b[0m\u001b[0mwrite\u001b[0m\u001b[1;33m(\u001b[0m\u001b[0musername\u001b[0m \u001b[1;33m+\u001b[0m \u001b[1;34m','\u001b[0m \u001b[1;33m+\u001b[0m \u001b[0mpassword\u001b[0m\u001b[1;33m)\u001b[0m\u001b[1;33m\u001b[0m\u001b[1;33m\u001b[0m\u001b[0m\n\u001b[0m",
      "\u001b[1;31mTypeError\u001b[0m: can only concatenate str (not \"int\") to str"
     ]
    }
   ],
   "source": [
    "username = input(\"Please choose a username: \")\n",
    "password = input(\"Please choose a password (Numbers Only): \")\n",
    "password = int(password)\n",
    "\n",
    "with open(\"register.csv\", \"a\") as file:\n",
    "    file.write(username + ',' + password)"
   ]
  },
  {
   "cell_type": "code",
   "execution_count": 15,
   "metadata": {},
   "outputs": [
    {
     "name": "stdout",
     "output_type": "stream",
     "text": [
      "Please choose a username: Ejike\n",
      "Please choose a password (Numbers Only): 98765\n"
     ]
    }
   ],
   "source": [
    "username = input(\"Please choose a username: \")\n",
    "password = input(\"Please choose a password (Numbers Only): \")\n",
    "password = int(password)\n",
    "\n",
    "with open(\"register.csv\", \"a\") as file:\n",
    "    file.write(username + ',' + str(password) +  '\\n')"
   ]
  },
  {
   "cell_type": "code",
   "execution_count": 23,
   "metadata": {},
   "outputs": [],
   "source": [
    "#read() rewturns a string, readlines() returns a list\n",
    "with open(\"register.csv\", \"r\") as file:\n",
    "    reader = file.readlines()"
   ]
  },
  {
   "cell_type": "code",
   "execution_count": 24,
   "metadata": {},
   "outputs": [
    {
     "data": {
      "text/plain": [
       "list"
      ]
     },
     "execution_count": 24,
     "metadata": {},
     "output_type": "execute_result"
    }
   ],
   "source": [
    "type(reader)"
   ]
  },
  {
   "cell_type": "code",
   "execution_count": 25,
   "metadata": {},
   "outputs": [
    {
     "name": "stdout",
     "output_type": "stream",
     "text": [
      "Ifeanyi,12345\n",
      "\n",
      "Okey,2345\n",
      "\n",
      "Ejike,98765\n",
      "\n"
     ]
    }
   ],
   "source": [
    "for item in reader:\n",
    "    print(item)"
   ]
  },
  {
   "cell_type": "code",
   "execution_count": 26,
   "metadata": {},
   "outputs": [
    {
     "name": "stdout",
     "output_type": "stream",
     "text": [
      "['Ifeanyi', '12345\\n']\n",
      "['Okey', '2345\\n']\n",
      "['Ejike', '98765\\n']\n"
     ]
    }
   ],
   "source": [
    "#split('')\n",
    "for item in reader:\n",
    "    print(item.split(','))"
   ]
  },
  {
   "cell_type": "code",
   "execution_count": 27,
   "metadata": {},
   "outputs": [
    {
     "name": "stdout",
     "output_type": "stream",
     "text": [
      "Ifeanyi\n",
      "Okey\n",
      "Ejike\n"
     ]
    }
   ],
   "source": [
    "#split('')\n",
    "for item in reader:\n",
    "    print(item.split(',')[0])"
   ]
  },
  {
   "cell_type": "code",
   "execution_count": 28,
   "metadata": {},
   "outputs": [
    {
     "name": "stdout",
     "output_type": "stream",
     "text": [
      "12345\n",
      "\n",
      "2345\n",
      "\n",
      "98765\n",
      "\n"
     ]
    }
   ],
   "source": [
    "#split('')\n",
    "for item in reader:\n",
    "    print(item.split(',')[1])"
   ]
  }
 ],
 "metadata": {
  "kernelspec": {
   "display_name": "Python 3",
   "language": "python",
   "name": "python3"
  },
  "language_info": {
   "codemirror_mode": {
    "name": "ipython",
    "version": 3
   },
   "file_extension": ".py",
   "mimetype": "text/x-python",
   "name": "python",
   "nbconvert_exporter": "python",
   "pygments_lexer": "ipython3",
   "version": "3.7.4"
  }
 },
 "nbformat": 4,
 "nbformat_minor": 2
}
